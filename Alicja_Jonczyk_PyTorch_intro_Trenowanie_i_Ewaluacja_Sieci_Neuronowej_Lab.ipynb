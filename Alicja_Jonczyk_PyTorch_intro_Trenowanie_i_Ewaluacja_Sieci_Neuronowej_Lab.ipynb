{
  "cells": [
    {
      "cell_type": "markdown",
      "source": [
        "#PyTorch Intro - Trenowanie i Ewaluacja Sieci Neuronowej - Lab\n"
      ],
      "metadata": {
        "id": "KD8xISdCAOKI"
      }
    },
    {
      "cell_type": "markdown",
      "source": [
        "#Zadanie\n",
        "\n",
        "Zaadaptuj kod z notatnika *PyTorch Intro - Trenowanie i Ewaluacja Sieci Neuronowej - Wykład* do problemu klasyfikacji liczby gwiazdek dla opinii z serwisu Yelp.\n",
        "Możesz przygotować pętlę treningową albo w czystym PyTorchu, albo z wykorzystaniem biblioteki PyTorch Lightning."
      ],
      "metadata": {
        "id": "jWXHh8FRVHFQ"
      }
    },
    {
      "cell_type": "markdown",
      "source": [
        "* Wykorzystaj zbiór `Yelp/yelp_review_full` ([link](https://huggingface.co/datasets/Yelp/yelp_review_full)) zawierający opinie z serwisu Yelp (kolumna: `text`) i etykietę (kolumna: `label`) o wartościach $0,1,2,3,4$ określającą liczbę gwiazdek przyznaną przez użytkownika (a ściślej, liczbę gwiazdek minus jeden). Ponieważ mamy pięć klas, ostatnia warstwa liniowa w sieci neuronowej musi zwracać pięć wartości.\n",
        "    * Zgodnie z dobrą praktyką z części treningowej wydziel dodatkową część walidacyjną.\n",
        "    * Ogranicz rozmiar każdej części zbioru danych (treningowej, walidacyjnej i testowej). Część treningowa nie powinna zawierać więcej niż 100k elementów.\n",
        "* Do ekstrakcji cech z tekstu wykorzystaj **metodę TF-IDF** (*term frequency-inverse document frequency*) opartą o podejście typu worek słów (*bag-of-words*). Zastosuj funkcję `TfidfVectorizer` z biblioteki `scikit-learn`.\n",
        "* Wykorzystaj podobną architekturę sieci (perceptron wielowarstwowy z warstwą Dropout) jak w notatniku wykładowym.\n",
        "\n"
      ],
      "metadata": {
        "id": "9-z5reyCUVLN"
      }
    },
    {
      "cell_type": "markdown",
      "source": [
        "## Punkty do wykonania"
      ],
      "metadata": {
        "id": "GLrfWuO0rgos"
      }
    },
    {
      "cell_type": "markdown",
      "source": [
        "1.   \n",
        "Napisz funkcję znajdującą i wyświetlającą $k$ elementów zbioru testowego dla których model najbardziej się myli, czyli estymuje najmniejsze prawdopodobieństwa prawdziwej klasy. Softmax jest funkcją ściśle rosnącą, więc wystarczy znaleźć elementy z najmniejszą wartością nieznormalizowanego wyjścia z sieci (logita) dla prawdziwej klasy.\n",
        "2.   Zbadaj wpływ wybranych parametrów funkcji ekstrakcji cech z tekstu `TfidfVectorizer` na skuteczność wytrenowanego modelu. Uruchom kilka eksperymentów z różnymi wartościami parametrów i porównaj dokładność wytrenowanego modelu na zbiorze walidacyjnym.\n",
        "3.   Zbadaj wpływ wybranych hiperparametrów modelu (np. liczba warstw liniowych modelu, rozmiary warstw) i procesu uczenia (np. początkowa wartość stopy uczenia, liczba epok, typ i parametry planisty stopy uczenia, typ i parametry optymalizatora) na skuteczność wytrenowanego modelu. Uruchom kilka eksperymentów z różnymi wartościami hiperparametrów i porównaj dokładność wytrenowanego modelu na zbiorze walidacyjnym. Następnie wykonaj finalną ewaluację najlepszego modelu na zbiorze testowym.\n"
      ],
      "metadata": {
        "id": "04B0VM6uIZ64"
      }
    },
    {
      "cell_type": "markdown",
      "source": [
        "##Przygotowanie środowiska\n",
        "Upewnij się, że notatnik jest uruchomiony na maszynie z GPU. Jesli GPU nie jest dostępne zmień typ maszyny (Runtime | Change runtime type) i wybierz T4 GPU."
      ],
      "metadata": {
        "id": "jJZnxX7rDoWP"
      }
    },
    {
      "cell_type": "code",
      "source": [
        "!nvidia-smi"
      ],
      "metadata": {
        "id": "Wug8WJs7LQPe",
        "colab": {
          "base_uri": "https://localhost:8080/"
        },
        "outputId": "fc69caf2-aff1-4353-af44-0cd4dd15751f"
      },
      "execution_count": 1,
      "outputs": [
        {
          "output_type": "stream",
          "name": "stdout",
          "text": [
            "Wed Apr  9 22:06:21 2025       \n",
            "+-----------------------------------------------------------------------------------------+\n",
            "| NVIDIA-SMI 550.54.15              Driver Version: 550.54.15      CUDA Version: 12.4     |\n",
            "|-----------------------------------------+------------------------+----------------------+\n",
            "| GPU  Name                 Persistence-M | Bus-Id          Disp.A | Volatile Uncorr. ECC |\n",
            "| Fan  Temp   Perf          Pwr:Usage/Cap |           Memory-Usage | GPU-Util  Compute M. |\n",
            "|                                         |                        |               MIG M. |\n",
            "|=========================================+========================+======================|\n",
            "|   0  Tesla T4                       Off |   00000000:00:04.0 Off |                    0 |\n",
            "| N/A   41C    P8              9W /   70W |       0MiB /  15360MiB |      0%      Default |\n",
            "|                                         |                        |                  N/A |\n",
            "+-----------------------------------------+------------------------+----------------------+\n",
            "                                                                                         \n",
            "+-----------------------------------------------------------------------------------------+\n",
            "| Processes:                                                                              |\n",
            "|  GPU   GI   CI        PID   Type   Process name                              GPU Memory |\n",
            "|        ID   ID                                                               Usage      |\n",
            "|=========================================================================================|\n",
            "|  No running processes found                                                             |\n",
            "+-----------------------------------------------------------------------------------------+\n"
          ]
        }
      ]
    },
    {
      "cell_type": "markdown",
      "source": [
        "Instalacja dodatkowych bibliotek: datasets (z biblioteki HuggingFace), TorchMetrics i W&B (Weights and Biases) Models."
      ],
      "metadata": {
        "id": "QmhzFKNXUmDa"
      }
    },
    {
      "cell_type": "code",
      "source": [
        "!pip install -q datasets\n",
        "!pip install -q torchmetrics\n",
        "!pip install -q wandb\n",
        "\n"
      ],
      "metadata": {
        "id": "kuEVGjrJSt5h"
      },
      "execution_count": 2,
      "outputs": []
    },
    {
      "cell_type": "markdown",
      "source": [
        "Import bibliotek."
      ],
      "metadata": {
        "id": "yz1EcTToUUIx"
      }
    },
    {
      "cell_type": "code",
      "source": [
        "import torch\n",
        "import numpy as np\n",
        "import matplotlib.pyplot as plt\n",
        "\n",
        "print(f\"Wersja biblioteki PyTorch: {torch.__version__}\")"
      ],
      "metadata": {
        "id": "zdGVyE77UU7l",
        "colab": {
          "base_uri": "https://localhost:8080/"
        },
        "outputId": "0033b654-f8ed-41ab-d42d-85d98d9d2c69"
      },
      "execution_count": 3,
      "outputs": [
        {
          "output_type": "stream",
          "name": "stdout",
          "text": [
            "Wersja biblioteki PyTorch: 2.6.0+cu124\n"
          ]
        }
      ]
    },
    {
      "cell_type": "markdown",
      "source": [
        "Sprawdzenie dostępności GPU."
      ],
      "metadata": {
        "id": "Jzr77SCyIZmZ"
      }
    },
    {
      "cell_type": "code",
      "source": [
        "print(f\"Dostępność GPU: {torch.cuda.is_available()}\")\n",
        "print(f\"Typ GPU: {torch.cuda.get_device_name(0)}\")"
      ],
      "metadata": {
        "id": "7ZMytRxqU_6d",
        "colab": {
          "base_uri": "https://localhost:8080/"
        },
        "outputId": "c47b2c45-2ebe-455d-dafe-3879d943c0f3"
      },
      "execution_count": 4,
      "outputs": [
        {
          "output_type": "stream",
          "name": "stdout",
          "text": [
            "Dostępność GPU: True\n",
            "Typ GPU: Tesla T4\n"
          ]
        }
      ]
    },
    {
      "cell_type": "markdown",
      "source": [],
      "metadata": {
        "id": "oANcfdIYW-P3"
      }
    },
    {
      "cell_type": "code",
      "source": [
        "import wandb\n",
        "\n",
        "# Logowanie do serwisu Weights&Biases monitorującego przebieg eksperymentów\n",
        "wandb.login()"
      ],
      "metadata": {
        "id": "9Xfy2mWEW-Vi",
        "colab": {
          "base_uri": "https://localhost:8080/"
        },
        "outputId": "1773f0b8-e157-4fd2-b1c8-64f83e85f3c1"
      },
      "execution_count": 5,
      "outputs": [
        {
          "output_type": "stream",
          "name": "stderr",
          "text": [
            "\u001b[34m\u001b[1mwandb\u001b[0m: Using wandb-core as the SDK backend.  Please refer to https://wandb.me/wandb-core for more information.\n",
            "\u001b[34m\u001b[1mwandb\u001b[0m: Currently logged in as: \u001b[33mjonczykalicja03\u001b[0m (\u001b[33mjonczykalicja03-politechnika-warszawska\u001b[0m) to \u001b[32mhttps://api.wandb.ai\u001b[0m. Use \u001b[1m`wandb login --relogin`\u001b[0m to force relogin\n"
          ]
        },
        {
          "output_type": "execute_result",
          "data": {
            "text/plain": [
              "True"
            ]
          },
          "metadata": {},
          "execution_count": 5
        }
      ]
    },
    {
      "cell_type": "markdown",
      "source": [
        "# Rozwiązanie"
      ],
      "metadata": {
        "id": "sjIAG6sjW8Dw"
      }
    },
    {
      "cell_type": "markdown",
      "source": [
        "Pobranie danych oraz ograniczenie wielkości zbiorów"
      ],
      "metadata": {
        "id": "l4j8sYtJnAwM"
      }
    },
    {
      "cell_type": "code",
      "source": [
        "from datasets import load_dataset\n",
        "\n",
        "# Load the dataset\n",
        "dataset = load_dataset(\"Yelp/yelp_review_full\")\n",
        "print(dataset)\n",
        "\n",
        "test_dataset = dataset[\"test\"]\n",
        "\n",
        "# Wydziel część walidacyjną ze zbioru treningowego\n",
        "split_dataset = dataset[\"train\"].train_test_split(test_size=0.2)  # 80% train, 20% validation\n",
        "train_dataset = split_dataset[\"train\"]\n",
        "val_dataset = split_dataset[\"test\"]\n",
        "\n",
        "# Utwórz mniejsze podzbiory treningowe, walidacyjne i testowe\n",
        "train_dataset = train_dataset.shuffle().select(range(int(len(train_dataset) * .15)))\n",
        "val_dataset = val_dataset.shuffle().select(range(int(len(val_dataset) * .1)))\n",
        "test_dataset = test_dataset.shuffle().select(range(int(len(test_dataset) * .4)))\n",
        "\n",
        "print(f\"Liczba próbek w zbiorze treningowym: {len(train_dataset)}\")\n",
        "print(f\"Liczba próbek w zbiorze walidacyjnym: {len(val_dataset)}\")\n",
        "print(f\"Liczba próbek w zbiorze testowym: {len(test_dataset)}\")"
      ],
      "metadata": {
        "id": "mqDLYFafW9yC",
        "colab": {
          "base_uri": "https://localhost:8080/"
        },
        "outputId": "3f61c0e4-277a-4e57-bb6f-edb7254e8d2a"
      },
      "execution_count": 6,
      "outputs": [
        {
          "output_type": "stream",
          "name": "stderr",
          "text": [
            "/usr/local/lib/python3.11/dist-packages/huggingface_hub/utils/_auth.py:94: UserWarning: \n",
            "The secret `HF_TOKEN` does not exist in your Colab secrets.\n",
            "To authenticate with the Hugging Face Hub, create a token in your settings tab (https://huggingface.co/settings/tokens), set it as secret in your Google Colab and restart your session.\n",
            "You will be able to reuse this secret in all of your notebooks.\n",
            "Please note that authentication is recommended but still optional to access public models or datasets.\n",
            "  warnings.warn(\n"
          ]
        },
        {
          "output_type": "stream",
          "name": "stdout",
          "text": [
            "DatasetDict({\n",
            "    train: Dataset({\n",
            "        features: ['label', 'text'],\n",
            "        num_rows: 650000\n",
            "    })\n",
            "    test: Dataset({\n",
            "        features: ['label', 'text'],\n",
            "        num_rows: 50000\n",
            "    })\n",
            "})\n",
            "Liczba próbek w zbiorze treningowym: 78000\n",
            "Liczba próbek w zbiorze walidacyjnym: 13000\n",
            "Liczba próbek w zbiorze testowym: 20000\n"
          ]
        }
      ]
    },
    {
      "cell_type": "markdown",
      "source": [
        "Sprawdzenie liczby elementów z każdej klasy w zbiorze treningowym."
      ],
      "metadata": {
        "id": "HINksxgEm8uL"
      }
    },
    {
      "cell_type": "code",
      "source": [
        "sample = train_dataset[123]\n",
        "print(f\"\\nPrzykładowy element ze zbioru danych:\")\n",
        "print(f\"{sample['text']=}\")\n",
        "print(f\"{sample['label']=}\")\n",
        "\n",
        "# Count occurrences of each label\n",
        "unique_labels, counts = np.unique(train_dataset['label'], return_counts=True)\n",
        "\n",
        "# Plot histogram\n",
        "plt.bar(unique_labels, counts, color=['skyblue', 'orange'], edgecolor='black')\n",
        "plt.title('Histogram of Binary Labels')\n",
        "plt.xlabel('Label')\n",
        "plt.ylabel('Frequency')\n",
        "plt.xticks(unique_labels)\n",
        "plt.grid(axis='y', linestyle='--', alpha=0.7)\n",
        "plt.show()"
      ],
      "metadata": {
        "id": "fifOwsXEXGvJ",
        "colab": {
          "base_uri": "https://localhost:8080/",
          "height": 561
        },
        "outputId": "a315c4d0-6b63-472f-b1fd-9e6c7bfcddaf"
      },
      "execution_count": 7,
      "outputs": [
        {
          "output_type": "stream",
          "name": "stdout",
          "text": [
            "\n",
            "Przykładowy element ze zbioru danych:\n",
            "sample['text']='My husband and I went into have my favored BBQ chicken salad , and a burger for him , I was so sad it was so bad food and service had to ask for everything and wait longer for her to bring it to us . On the plus side the seaters are on the ball great job girls , she got our drinks and frys for us.'\n",
            "sample['label']=1\n"
          ]
        },
        {
          "output_type": "display_data",
          "data": {
            "text/plain": [
              "<Figure size 640x480 with 1 Axes>"
            ],
            "image/png": "[encoded data removed]"
          },
          "metadata": {}
        }
      ]
    },
    {
      "cell_type": "markdown",
      "source": [
        "Ekstrakcja cech"
      ],
      "metadata": {
        "id": "5LUqF9CMnF4l"
      }
    },
    {
      "cell_type": "code",
      "source": [
        "from sklearn.feature_extraction.text import TfidfVectorizer\n",
        "from sklearn.model_selection import train_test_split\n",
        "from sklearn import metrics\n",
        "\n",
        "from tqdm import tqdm"
      ],
      "metadata": {
        "id": "pXLikULHXGyL"
      },
      "execution_count": 8,
      "outputs": []
    },
    {
      "cell_type": "code",
      "source": [
        "from sklearn.feature_extraction.text import TfidfVectorizer\n",
        "\n",
        "vocab_size = 10000\n",
        "\n",
        "vectorizer = TfidfVectorizer(\n",
        "    max_features=vocab_size,    # Ogranicz do max_features najczęściej występujących słów\n",
        "    lowercase=True,             # Przekształć na małe litery\n",
        "    analyzer='word',            # Analiza na poziomie słów (a nie pojedynczych znaków)\n",
        "    ngram_range=(1, 1),         # Unigramy (pojedynczne słowa)\n",
        "    stop_words=\"english\"        # Usuń częste słowa w języku angielskim (np. a, the, and)\n",
        ")\n",
        "\n",
        "# Ekstrakcja cech\n",
        "# Na zbiorze treningowym stosujemy funkcję fit_transform() która wyznacza cech i dokonuje ich ekstrakcji\n",
        "train_tfidf_features = vectorizer.fit_transform(train_dataset[\"text\"])\n",
        "# Na zbiorze walidacyjnym i testowym stosujemy funkcję transform() które dokonuje ekstrakcji tych samych cech co na zbiorze treningowym\n",
        "val_tfidf_features = vectorizer.transform(val_dataset[\"text\"])\n",
        "test_tfidf_features = vectorizer.transform(test_dataset[\"text\"])\n",
        "\n",
        "print(f\"Rozmiar macierzy TF-IDF dla zbioru treningowego: {train_tfidf_features.shape}\")\n",
        "print(f\"{train_tfidf_features.dtype=}\\n\")\n",
        "\n",
        "feature_names = vectorizer.get_feature_names_out()\n",
        "print(f\"Liczba cech: {len(feature_names)}\")\n",
        "print(f\"Przykładowe cechy: {np.random.choice(feature_names, 20)}\\n\")\n",
        "\n",
        "ndx = 111\n",
        "print(f\"Element zbioru treningowego o indeksie={ndx}\")\n",
        "print(f\"{train_dataset['text'][ndx]=}\\n\")\n",
        "features = train_tfidf_features[ndx]\n",
        "print(f\"Cechy elementu o indeksie={ndx}:\")\n",
        "non_zero_cols = features.nonzero()[1]\n",
        "\n",
        "non_zero_cols = sorted(non_zero_cols)\n",
        "for i in non_zero_cols:\n",
        "    print(f\"Kolumna: {i} ({feature_names[i]})   Waga: {features[0, i]:.5f}\")\n",
        "\n",
        "\n",
        "non_zero_counts = np.diff(train_tfidf_features.indptr)\n",
        "print(f\"Średnia liczba niezerowych cech w próbkach: {non_zero_counts.mean():.2f}\")\n",
        "\n",
        "# Plot histogram\n",
        "plt.figure(figsize=(8, 6))\n",
        "plt.hist(non_zero_counts, bins=64)\n",
        "plt.title('Histogram liczby niezerowych cech w próbce')\n",
        "plt.xlabel('Liczba niezerowych cech')\n",
        "plt.ylabel('Liczba próbek')\n",
        "plt.grid(axis='y', linestyle='--', alpha=0.7)"
      ],
      "metadata": {
        "colab": {
          "base_uri": "https://localhost:8080/",
          "height": 964
        },
        "id": "PgdjLd8yeS1c",
        "outputId": "f4876408-75f3-4e03-def1-1e557313b822"
      },
      "execution_count": 9,
      "outputs": [
        {
          "output_type": "stream",
          "name": "stdout",
          "text": [
            "Rozmiar macierzy TF-IDF dla zbioru treningowego: (78000, 10000)\n",
            "train_tfidf_features.dtype=dtype('float64')\n",
            "\n",
            "Liczba cech: 10000\n",
            "Przykładowe cechy: ['block' 'regulars' 'disorganized' 'expanding' 'nthese' 'slightest'\n",
            " 'yelling' 'reds' 'lisa' 'shipping' 'crisis' 'apprehensive' 'sarcastic'\n",
            " 'celebrities' 'collect' 'enclosed' 'followed' 'care' 'nlast' 'weeks']\n",
            "\n",
            "Element zbioru treningowego o indeksie=111\n",
            "train_dataset['text'][ndx]=\"Don't like at all... Too doughy and too expensive. Not very good pizza. It reminds me if Papa John's (gross).\"\n",
            "\n",
            "Cechy elementu o indeksie=111:\n",
            "Kolumna: 2725 (don)   Waga: 0.15783\n",
            "Kolumna: 2751 (doughy)   Waga: 0.43999\n",
            "Kolumna: 3162 (expensive)   Waga: 0.25971\n",
            "Kolumna: 3798 (good)   Waga: 0.11550\n",
            "Kolumna: 3903 (gross)   Waga: 0.32021\n",
            "Kolumna: 4638 (john)   Waga: 0.40297\n",
            "Kolumna: 4972 (like)   Waga: 0.12641\n",
            "Kolumna: 6418 (papa)   Waga: 0.46739\n",
            "Kolumna: 6695 (pizza)   Waga: 0.23806\n",
            "Kolumna: 7350 (reminds)   Waga: 0.38038\n",
            "Średnia liczba niezerowych cech w próbkach: 47.95\n"
          ]
        },
        {
          "output_type": "display_data",
          "data": {
            "text/plain": [
              "<Figure size 800x600 with 1 Axes>"
            ],
            "image/png": "[encoded data removed]"
          },
          "metadata": {}
        }
      ]
    },
    {
      "cell_type": "markdown",
      "source": [
        "Przygotowanie zbioru danych w PyTorch"
      ],
      "metadata": {
        "id": "oFbm4WsHqTMy"
      }
    },
    {
      "cell_type": "code",
      "source": [
        "import torch\n",
        "\n",
        "from torch.utils.data import TensorDataset, DataLoader"
      ],
      "metadata": {
        "id": "bX_we7SGefvR"
      },
      "execution_count": 10,
      "outputs": []
    },
    {
      "cell_type": "code",
      "source": [
        "def make_dataset(sparse_features, labels):\n",
        "    # Zamień rzadką macierz cech na zwykłą (gęstą) macierz ndarray\n",
        "    dense_features = sparse_features.astype(np.float32).todense()\n",
        "    # Utwórz zbiór danych na podstawie tensora z cechami i tensora z etykietami\n",
        "    dataset = TensorDataset(\n",
        "        torch.from_numpy(dense_features),\n",
        "        torch.tensor(labels, dtype=torch.int64)\n",
        "    )\n",
        "    return dataset\n",
        "\n",
        "# Utwórz trzy zbiory danych: treningowy, walidacyjny i testowy\n",
        "datasets = {\n",
        "    'train': make_dataset(train_tfidf_features, train_dataset['label']),\n",
        "    'val': make_dataset(val_tfidf_features, val_dataset['label']),\n",
        "    'test': make_dataset(test_tfidf_features, test_dataset['label'])\n",
        "}\n",
        "\n",
        "# Wyświetl przykładowy element\n",
        "print(datasets['train'][0])"
      ],
      "metadata": {
        "colab": {
          "base_uri": "https://localhost:8080/"
        },
        "id": "KpKh0T7jehgf",
        "outputId": "a4149af5-a012-40fd-f1aa-8d9f2c99ec0d"
      },
      "execution_count": 11,
      "outputs": [
        {
          "output_type": "stream",
          "name": "stdout",
          "text": [
            "(tensor([0., 0., 0.,  ..., 0., 0., 0.]), tensor(3))\n"
          ]
        }
      ]
    },
    {
      "cell_type": "code",
      "source": [
        "batch_size = 256\n",
        "\n",
        "dataloaders = {split: DataLoader(datasets[split], batch_size=batch_size, shuffle=split=='train', num_workers=0) for split in datasets}\n",
        "\n",
        "for X_batch, y_batch in dataloaders['train']:\n",
        "    print(f\"{X_batch.shape=}\")\n",
        "    print(f\"{y_batch.shape=}\")\n",
        "    break"
      ],
      "metadata": {
        "colab": {
          "base_uri": "https://localhost:8080/"
        },
        "id": "P-HnUtLuekHs",
        "outputId": "d41c7712-7bd4-41d9-af47-0cad81339da1"
      },
      "execution_count": 12,
      "outputs": [
        {
          "output_type": "stream",
          "name": "stdout",
          "text": [
            "X_batch.shape=torch.Size([256, 10000])\n",
            "y_batch.shape=torch.Size([256])\n"
          ]
        }
      ]
    },
    {
      "cell_type": "markdown",
      "source": [
        "Utworzenie modelu sieci neuronowej"
      ],
      "metadata": {
        "id": "5bcLJoatqXi8"
      }
    },
    {
      "cell_type": "code",
      "source": [
        "import torch.nn as nn\n",
        "\n",
        "\n",
        "class SimpleNet(nn.Module):\n",
        "    def __init__(self, vocab_size: int, n_classes: int):\n",
        "        super().__init__()\n",
        "        self.vocab_size = vocab_size\n",
        "        self.n_classes = n_classes\n",
        "\n",
        "        self.feature_extractor = nn.Sequential(\n",
        "            nn.Linear(self.vocab_size, 64),\n",
        "            nn.ReLU(),\n",
        "            nn.Linear(64, 16),\n",
        "            nn.ReLU()\n",
        "        )\n",
        "        self.dropout = nn.Dropout(0.1)\n",
        "        self.linear = nn.Linear(16, n_classes)\n",
        "\n",
        "    def forward(self, x: torch.Tensor) -> torch.Tensor:\n",
        "        features = self.feature_extractor(x)\n",
        "        features = self.dropout(features)\n",
        "        logits = self.linear(features)\n",
        "        return logits"
      ],
      "metadata": {
        "id": "X0mP2K2PeoW5"
      },
      "execution_count": 13,
      "outputs": []
    },
    {
      "cell_type": "code",
      "source": [
        "use_cuda = torch.cuda.is_available()\n",
        "device = torch.device(\"cuda:0\" if use_cuda else \"cpu\")\n",
        "print(\"Urządzenie: {}\".format(device))"
      ],
      "metadata": {
        "colab": {
          "base_uri": "https://localhost:8080/"
        },
        "id": "EBUA0t8_esTb",
        "outputId": "8a994e8c-433f-4b10-c3fc-1c2046b1d12d"
      },
      "execution_count": 14,
      "outputs": [
        {
          "output_type": "stream",
          "name": "stdout",
          "text": [
            "Urządzenie: cuda:0\n"
          ]
        }
      ]
    },
    {
      "cell_type": "code",
      "source": [
        "classifier = SimpleNet(vocab_size, n_classes=5)\n",
        "classifier.to(device)\n",
        "\n",
        "print(classifier)"
      ],
      "metadata": {
        "colab": {
          "base_uri": "https://localhost:8080/"
        },
        "id": "FMjxTQTLeuRm",
        "outputId": "34b03849-c013-4084-e10d-b3e37dc15d4a"
      },
      "execution_count": 15,
      "outputs": [
        {
          "output_type": "stream",
          "name": "stdout",
          "text": [
            "SimpleNet(\n",
            "  (feature_extractor): Sequential(\n",
            "    (0): Linear(in_features=10000, out_features=64, bias=True)\n",
            "    (1): ReLU()\n",
            "    (2): Linear(in_features=64, out_features=16, bias=True)\n",
            "    (3): ReLU()\n",
            "  )\n",
            "  (dropout): Dropout(p=0.1, inplace=False)\n",
            "  (linear): Linear(in_features=16, out_features=5, bias=True)\n",
            ")\n"
          ]
        }
      ]
    },
    {
      "cell_type": "code",
      "source": [
        "# Utworzenie 5-elementowego wsadu tensorów o vocab_size elementach każdy\n",
        "x = torch.rand((5, vocab_size))\n",
        "print(x)\n",
        "print(f\"{x.shape=}\\n\")\n",
        "\n",
        "x = x.to(device)        # Przenieś tensor na GPU\n",
        "\n",
        "logits = classifier(x)\n",
        "print(f\"{logits=}\")\n",
        "print(f\"{logits.shape=}\\n\")\n",
        "\n",
        "probabilities = nn.functional.softmax(logits, dim=-1)\n",
        "print(f\"{probabilities=}\")"
      ],
      "metadata": {
        "colab": {
          "base_uri": "https://localhost:8080/"
        },
        "id": "I7-IQcNVfYDX",
        "outputId": "0bbe3534-9a14-42fe-ae7f-62bc9c933b6e"
      },
      "execution_count": 16,
      "outputs": [
        {
          "output_type": "stream",
          "name": "stdout",
          "text": [
            "tensor([[0.4641, 0.8940, 0.6330,  ..., 0.7479, 0.0385, 0.5482],\n",
            "        [0.9420, 0.2064, 0.0142,  ..., 0.9199, 0.1451, 0.6677],\n",
            "        [0.9086, 0.0796, 0.5595,  ..., 0.7854, 0.2686, 0.7416],\n",
            "        [0.4845, 0.2569, 0.4294,  ..., 0.4103, 0.3738, 0.7031],\n",
            "        [0.5849, 0.2304, 0.3029,  ..., 0.6542, 0.9562, 0.2504]])\n",
            "x.shape=torch.Size([5, 10000])\n",
            "\n",
            "logits=tensor([[-0.1910,  0.0900, -0.1400, -0.1102,  0.1196],\n",
            "        [-0.1551,  0.1164, -0.1675, -0.1609,  0.0447],\n",
            "        [-0.2061,  0.0760, -0.0917, -0.1591,  0.0400],\n",
            "        [-0.1775,  0.0731, -0.1199, -0.1644,  0.0176],\n",
            "        [-0.2136,  0.1003, -0.1505, -0.1314,  0.0617]], device='cuda:0',\n",
            "       grad_fn=<AddmmBackward0>)\n",
            "logits.shape=torch.Size([5, 5])\n",
            "\n",
            "probabilities=tensor([[0.1717, 0.2274, 0.1806, 0.1861, 0.2342],\n",
            "        [0.1813, 0.2379, 0.1791, 0.1803, 0.2214],\n",
            "        [0.1732, 0.2296, 0.1942, 0.1815, 0.2215],\n",
            "        [0.1795, 0.2306, 0.1901, 0.1818, 0.2181],\n",
            "        [0.1713, 0.2345, 0.1825, 0.1860, 0.2256]], device='cuda:0',\n",
            "       grad_fn=<SoftmaxBackward0>)\n"
          ]
        }
      ]
    },
    {
      "cell_type": "markdown",
      "source": [
        "Pętla treningowa"
      ],
      "metadata": {
        "id": "fqTENUhnrNNr"
      }
    },
    {
      "cell_type": "code",
      "source": [
        "import torchmetrics\n",
        "\n",
        "\n",
        "def train(model: nn.Module, loaders: dict[DataLoader], criterion: nn.Module,\n",
        "          optimizer: torch.optim.Optimizer, lr_scheduler, num_epochs: int):\n",
        "\n",
        "    # Metryki wyznaczane dla wsadu\n",
        "    metric_loss = torchmetrics.aggregation.MeanMetric().to(device)\n",
        "    metric_acc = torchmetrics.classification.Accuracy(task=\"multiclass\", num_classes=5).to(device)\n",
        "\n",
        "    # Run all epochs\n",
        "    for epoch in range(1, num_epochs+1):\n",
        "\n",
        "        for phase in ['train', 'val']:\n",
        "            # WAŻNE - przełącz model w odpowiedni tryb\n",
        "            if phase == 'train':\n",
        "                model.train()  # Przełącz model w tryb treningowy\n",
        "            else:\n",
        "                model.eval()   # Przełącz model w tryb ewaluacyjny\n",
        "\n",
        "            # Loop over each batch in the data loader\n",
        "            for X_batch, target in tqdm(loaders[phase]):\n",
        "                # Przenieś dane na odpowiednie urządzenie\n",
        "                X_batch, target = X_batch.to(device), target.to(device)\n",
        "\n",
        "                # Wyzeruj gradienty parametrów sieci\n",
        "                # BARDZO WAŻNY KROK - domyślnie gradienty nie są zerowane i akumulują się dla wielu kroków przejścia w tył\n",
        "                optimizer.zero_grad()\n",
        "\n",
        "                # Przejście w przód (forward)\n",
        "                # Śledzenie historii obliczeń tylko w fazie trenowania\n",
        "                with torch.set_grad_enabled(phase == 'train'):\n",
        "                    logits = model(X_batch)\n",
        "                    _, preds = torch.max(logits, dim=1)\n",
        "                    loss = criterion(logits, target)\n",
        "\n",
        "                    # Zaktualizuj wartości metryk\n",
        "                    metric_loss(loss)\n",
        "                    metric_acc(preds, target)\n",
        "\n",
        "                    # Przejście w tył (backward) i krok optymalizacji parametrów sieci tylko w fazie trenowania\n",
        "                    if phase == 'train':\n",
        "                        loss.backward()\n",
        "                        optimizer.step()\n",
        "\n",
        "            # Wyznacz średnie wartości metryk dla wsadu\n",
        "            acc = metric_acc.compute()\n",
        "            mean_loss = metric_loss.compute()\n",
        "            current_lr = lr_scheduler.get_last_lr()[0]\n",
        "            print(f\"(Epoch {epoch}/[{phase}]) Loss:\\t{mean_loss:.3f}   Accuracy: {acc:.3f}   lr: {current_lr}\")\n",
        "            metrics = {\n",
        "                f\"{phase}/loss\": mean_loss,\n",
        "                f\"{phase}/accuracy\": acc,\n",
        "                f\"{phase}/lr\": current_lr,\n",
        "            }\n",
        "            wandb.log(metrics, step=epoch)\n",
        "\n",
        "            # Wyzeruj metryki\n",
        "            metric_loss.reset()\n",
        "            metric_acc.reset()\n",
        "            # KONIEC JEDNEJ FAZY W EPOCE (TRENING LUB WALIDACJA)\n",
        "\n",
        "        lr_scheduler.step()\n",
        "        # KONIEC EPOKI\n"
      ],
      "metadata": {
        "id": "dWklnuRqffDd"
      },
      "execution_count": 17,
      "outputs": []
    },
    {
      "cell_type": "code",
      "source": [
        "num_epochs = 8\n",
        "\n",
        "# Utworzenie obiekty klasy nn.CrossEntropyLoss() obliczającego funkcję straty entropii krzyżowej\n",
        "criterion = nn.CrossEntropyLoss()\n",
        "\n",
        "# Utworzenie optymalizatora AdamW\n",
        "optimizer = torch.optim.AdamW(classifier.parameters(), lr=1e-4, weight_decay=1e-5)\n",
        "\n",
        "# Utworzenie planisty stopy uczenia\n",
        "lr_scheduler = torch.optim.lr_scheduler.CosineAnnealingLR(optimizer, T_max=num_epochs, eta_min=1e-5)"
      ],
      "metadata": {
        "id": "WVwI0q_Dfid1"
      },
      "execution_count": 18,
      "outputs": []
    },
    {
      "cell_type": "code",
      "source": [
        "print(\"Classifier:\", type(classifier))\n",
        "print(\"Dataloaders keys:\", dataloaders.keys())\n",
        "print(\"Criterion:\", type(criterion))\n",
        "print(\"Optimizer:\", type(optimizer))\n",
        "print(\"Scheduler:\", type(lr_scheduler))\n",
        "print(\"Num epochs:\", num_epochs)\n"
      ],
      "metadata": {
        "colab": {
          "base_uri": "https://localhost:8080/"
        },
        "id": "1OVaQGjlvRyl",
        "outputId": "ddb8f474-c3b1-4dfc-e49c-4e5330a78004"
      },
      "execution_count": 19,
      "outputs": [
        {
          "output_type": "stream",
          "name": "stdout",
          "text": [
            "Classifier: <class '__main__.SimpleNet'>\n",
            "Dataloaders keys: dict_keys(['train', 'val', 'test'])\n",
            "Criterion: <class 'torch.nn.modules.loss.CrossEntropyLoss'>\n",
            "Optimizer: <class 'torch.optim.adamw.AdamW'>\n",
            "Scheduler: <class 'torch.optim.lr_scheduler.CosineAnnealingLR'>\n",
            "Num epochs: 8\n"
          ]
        }
      ]
    },
    {
      "cell_type": "code",
      "source": [
        "run = wandb.init(project=\"MyExperiments\")\n",
        "\n",
        "train(classifier, dataloaders, criterion, optimizer, lr_scheduler, num_epochs)\n",
        "run.finish()"
      ],
      "metadata": {
        "colab": {
          "base_uri": "https://localhost:8080/",
          "height": 1000
        },
        "id": "6qE2ASdRflO3",
        "outputId": "2d9e1333-cf0e-4cbe-ddc8-968e2f1a8fa5"
      },
      "execution_count": 20,
      "outputs": [
        {
          "output_type": "display_data",
          "data": {
            "text/plain": [
              "<IPython.core.display.HTML object>"
            ],
            "text/html": [
              "Tracking run with wandb version 0.19.9"
            ]
          },
          "metadata": {}
        },
        {
          "output_type": "display_data",
          "data": {
            "text/plain": [
              "<IPython.core.display.HTML object>"
            ],
            "text/html": [
              "Run data is saved locally in <code>/content/wandb/run-20250409_220725-6vf031n3</code>"
            ]
          },
          "metadata": {}
        },
        {
          "output_type": "display_data",
          "data": {
            "text/plain": [
              "<IPython.core.display.HTML object>"
            ],
            "text/html": [
              "Syncing run <strong><a href='https://wandb.ai/jonczykalicja03-politechnika-warszawska/MyExperiments/runs/6vf031n3' target=\"_blank\">dandy-yogurt-16</a></strong> to <a href='https://wandb.ai/jonczykalicja03-politechnika-warszawska/MyExperiments' target=\"_blank\">Weights & Biases</a> (<a href='https://wandb.me/developer-guide' target=\"_blank\">docs</a>)<br>"
            ]
          },
          "metadata": {}
        },
        {
          "output_type": "display_data",
          "data": {
            "text/plain": [
              "<IPython.core.display.HTML object>"
            ],
            "text/html": [
              " View project at <a href='https://wandb.ai/jonczykalicja03-politechnika-warszawska/MyExperiments' target=\"_blank\">https://wandb.ai/jonczykalicja03-politechnika-warszawska/MyExperiments</a>"
            ]
          },
          "metadata": {}
        },
        {
          "output_type": "display_data",
          "data": {
            "text/plain": [
              "<IPython.core.display.HTML object>"
            ],
            "text/html": [
              " View run at <a href='https://wandb.ai/jonczykalicja03-politechnika-warszawska/MyExperiments/runs/6vf031n3' target=\"_blank\">https://wandb.ai/jonczykalicja03-politechnika-warszawska/MyExperiments/runs/6vf031n3</a>"
            ]
          },
          "metadata": {}
        },
        {
          "output_type": "stream",
          "name": "stderr",
          "text": [
            "100%|██████████| 305/305 [00:03<00:00, 87.01it/s]\n"
          ]
        },
        {
          "output_type": "stream",
          "name": "stdout",
          "text": [
            "(Epoch 1/[train]) Loss:\t1.605   Accuracy: 0.289   lr: 0.0001\n"
          ]
        },
        {
          "output_type": "stream",
          "name": "stderr",
          "text": [
            "100%|██████████| 51/51 [00:00<00:00, 99.42it/s] \n"
          ]
        },
        {
          "output_type": "stream",
          "name": "stdout",
          "text": [
            "(Epoch 1/[val]) Loss:\t1.583   Accuracy: 0.331   lr: 0.0001\n"
          ]
        },
        {
          "output_type": "stream",
          "name": "stderr",
          "text": [
            "100%|██████████| 305/305 [00:03<00:00, 99.43it/s] \n"
          ]
        },
        {
          "output_type": "stream",
          "name": "stdout",
          "text": [
            "(Epoch 2/[train]) Loss:\t1.532   Accuracy: 0.397   lr: 9.657457896300791e-05\n"
          ]
        },
        {
          "output_type": "stream",
          "name": "stderr",
          "text": [
            "100%|██████████| 51/51 [00:00<00:00, 123.85it/s]\n"
          ]
        },
        {
          "output_type": "stream",
          "name": "stdout",
          "text": [
            "(Epoch 2/[val]) Loss:\t1.467   Accuracy: 0.463   lr: 9.657457896300791e-05\n"
          ]
        },
        {
          "output_type": "stream",
          "name": "stderr",
          "text": [
            "100%|██████████| 305/305 [00:02<00:00, 109.34it/s]\n"
          ]
        },
        {
          "output_type": "stream",
          "name": "stdout",
          "text": [
            "(Epoch 3/[train]) Loss:\t1.392   Accuracy: 0.487   lr: 8.681980515339464e-05\n"
          ]
        },
        {
          "output_type": "stream",
          "name": "stderr",
          "text": [
            "100%|██████████| 51/51 [00:00<00:00, 123.68it/s]\n"
          ]
        },
        {
          "output_type": "stream",
          "name": "stdout",
          "text": [
            "(Epoch 3/[val]) Loss:\t1.319   Accuracy: 0.524   lr: 8.681980515339464e-05\n"
          ]
        },
        {
          "output_type": "stream",
          "name": "stderr",
          "text": [
            "100%|██████████| 305/305 [00:03<00:00, 98.93it/s] \n"
          ]
        },
        {
          "output_type": "stream",
          "name": "stdout",
          "text": [
            "(Epoch 4/[train]) Loss:\t1.264   Accuracy: 0.521   lr: 7.222075445642905e-05\n"
          ]
        },
        {
          "output_type": "stream",
          "name": "stderr",
          "text": [
            "100%|██████████| 51/51 [00:00<00:00, 129.59it/s]\n"
          ]
        },
        {
          "output_type": "stream",
          "name": "stdout",
          "text": [
            "(Epoch 4/[val]) Loss:\t1.216   Accuracy: 0.544   lr: 7.222075445642905e-05\n"
          ]
        },
        {
          "output_type": "stream",
          "name": "stderr",
          "text": [
            "100%|██████████| 305/305 [00:03<00:00, 92.39it/s]\n"
          ]
        },
        {
          "output_type": "stream",
          "name": "stdout",
          "text": [
            "(Epoch 5/[train]) Loss:\t1.183   Accuracy: 0.531   lr: 5.5e-05\n"
          ]
        },
        {
          "output_type": "stream",
          "name": "stderr",
          "text": [
            "100%|██████████| 51/51 [00:00<00:00, 95.34it/s]\n"
          ]
        },
        {
          "output_type": "stream",
          "name": "stdout",
          "text": [
            "(Epoch 5/[val]) Loss:\t1.157   Accuracy: 0.550   lr: 5.5e-05\n"
          ]
        },
        {
          "output_type": "stream",
          "name": "stderr",
          "text": [
            "100%|██████████| 305/305 [00:02<00:00, 106.61it/s]\n"
          ]
        },
        {
          "output_type": "stream",
          "name": "stdout",
          "text": [
            "(Epoch 6/[train]) Loss:\t1.136   Accuracy: 0.539   lr: 3.777924554357096e-05\n"
          ]
        },
        {
          "output_type": "stream",
          "name": "stderr",
          "text": [
            "100%|██████████| 51/51 [00:00<00:00, 127.98it/s]\n"
          ]
        },
        {
          "output_type": "stream",
          "name": "stdout",
          "text": [
            "(Epoch 6/[val]) Loss:\t1.125   Accuracy: 0.553   lr: 3.777924554357096e-05\n"
          ]
        },
        {
          "output_type": "stream",
          "name": "stderr",
          "text": [
            "100%|██████████| 305/305 [00:02<00:00, 107.83it/s]\n"
          ]
        },
        {
          "output_type": "stream",
          "name": "stdout",
          "text": [
            "(Epoch 7/[train]) Loss:\t1.112   Accuracy: 0.545   lr: 2.3180194846605367e-05\n"
          ]
        },
        {
          "output_type": "stream",
          "name": "stderr",
          "text": [
            "100%|██████████| 51/51 [00:00<00:00, 126.03it/s]\n"
          ]
        },
        {
          "output_type": "stream",
          "name": "stdout",
          "text": [
            "(Epoch 7/[val]) Loss:\t1.108   Accuracy: 0.555   lr: 2.3180194846605367e-05\n"
          ]
        },
        {
          "output_type": "stream",
          "name": "stderr",
          "text": [
            "100%|██████████| 305/305 [00:02<00:00, 107.08it/s]\n"
          ]
        },
        {
          "output_type": "stream",
          "name": "stdout",
          "text": [
            "(Epoch 8/[train]) Loss:\t1.099   Accuracy: 0.547   lr: 1.3425421036992098e-05\n"
          ]
        },
        {
          "output_type": "stream",
          "name": "stderr",
          "text": [
            "100%|██████████| 51/51 [00:00<00:00, 125.43it/s]"
          ]
        },
        {
          "output_type": "stream",
          "name": "stdout",
          "text": [
            "(Epoch 8/[val]) Loss:\t1.099   Accuracy: 0.555   lr: 1.3425421036992098e-05\n"
          ]
        },
        {
          "output_type": "stream",
          "name": "stderr",
          "text": [
            "\n"
          ]
        },
        {
          "output_type": "display_data",
          "data": {
            "text/plain": [
              "<IPython.core.display.HTML object>"
            ],
            "text/html": []
          },
          "metadata": {}
        },
        {
          "output_type": "display_data",
          "data": {
            "text/plain": [
              "<IPython.core.display.HTML object>"
            ],
            "text/html": [
              "<br>    <style><br>        .wandb-row {<br>            display: flex;<br>            flex-direction: row;<br>            flex-wrap: wrap;<br>            justify-content: flex-start;<br>            width: 100%;<br>        }<br>        .wandb-col {<br>            display: flex;<br>            flex-direction: column;<br>            flex-basis: 100%;<br>            flex: 1;<br>            padding: 10px;<br>        }<br>    </style><br><div class=\"wandb-row\"><div class=\"wandb-col\"><h3>Run history:</h3><br/><table class=\"wandb\"><tr><td>train/accuracy</td><td>▁▄▆▇████</td></tr><tr><td>train/loss</td><td>█▇▅▃▂▂▁▁</td></tr><tr><td>train/lr</td><td>██▇▆▄▃▂▁</td></tr><tr><td>val/accuracy</td><td>▁▅▇█████</td></tr><tr><td>val/loss</td><td>█▆▄▃▂▁▁▁</td></tr><tr><td>val/lr</td><td>██▇▆▄▃▂▁</td></tr></table><br/></div><div class=\"wandb-col\"><h3>Run summary:</h3><br/><table class=\"wandb\"><tr><td>train/accuracy</td><td>0.54717</td></tr><tr><td>train/loss</td><td>1.09862</td></tr><tr><td>train/lr</td><td>1e-05</td></tr><tr><td>val/accuracy</td><td>0.55546</td></tr><tr><td>val/loss</td><td>1.09939</td></tr><tr><td>val/lr</td><td>1e-05</td></tr></table><br/></div></div>"
            ]
          },
          "metadata": {}
        },
        {
          "output_type": "display_data",
          "data": {
            "text/plain": [
              "<IPython.core.display.HTML object>"
            ],
            "text/html": [
              " View run <strong style=\"color:#cdcd00\">dandy-yogurt-16</strong> at: <a href='https://wandb.ai/jonczykalicja03-politechnika-warszawska/MyExperiments/runs/6vf031n3' target=\"_blank\">https://wandb.ai/jonczykalicja03-politechnika-warszawska/MyExperiments/runs/6vf031n3</a><br> View project at: <a href='https://wandb.ai/jonczykalicja03-politechnika-warszawska/MyExperiments' target=\"_blank\">https://wandb.ai/jonczykalicja03-politechnika-warszawska/MyExperiments</a><br>Synced 5 W&B file(s), 0 media file(s), 0 artifact file(s) and 0 other file(s)"
            ]
          },
          "metadata": {}
        },
        {
          "output_type": "display_data",
          "data": {
            "text/plain": [
              "<IPython.core.display.HTML object>"
            ],
            "text/html": [
              "Find logs at: <code>./wandb/run-20250409_220725-6vf031n3/logs</code>"
            ]
          },
          "metadata": {}
        }
      ]
    },
    {
      "cell_type": "code",
      "source": [
        "torch.save(classifier.state_dict(), 'my_model_weights.pth')"
      ],
      "metadata": {
        "id": "pAXOI80OfqX4"
      },
      "execution_count": 21,
      "outputs": []
    },
    {
      "cell_type": "code",
      "source": [
        "# Indeks elementu ze zbioru testowego\n",
        "ndx = 2\n",
        "\n",
        "x, target = datasets['test'][ndx]\n",
        "print(f\"Opinia: {test_dataset[ndx]['text']}\")\n",
        "print(f\"Prawdziwa klasa: {target}\")\n",
        "\n",
        "x = x.to(device)\n",
        "\n",
        "# BARDZO WAŻNE\n",
        "classifier.eval()\n",
        "\n",
        "with torch.inference_mode():\n",
        "    # torch.inference_mode - opcjonalne, ale przyśpiesz wykonanie, bo nie jest tworzony graf obliczeń\n",
        "    logits = classifier(x)\n",
        "\n",
        "print(f\"Wyjście z sieci (logity): {logits}\")\n",
        "probas = torch.nn.functional.softmax(logits, dim=-1)\n",
        "print(f\"Rozkład prawdopodobieństwa klas: {probas}\")\n",
        "print(f\"Predykowana klasa: {logits.argmax(dim=-1)}\")\n"
      ],
      "metadata": {
        "colab": {
          "base_uri": "https://localhost:8080/"
        },
        "id": "Pj-8jyi-fwPQ",
        "outputId": "eccb21fa-1fc4-46fd-9c1d-b0eeb2c72983"
      },
      "execution_count": 22,
      "outputs": [
        {
          "output_type": "stream",
          "name": "stdout",
          "text": [
            "Opinia: My stay at this hotel was extremely disappointing. Expensive at $159, boasting of clean non-smoking building and free breakfast. The lobby is nice and that's about it. The elevator smelled of beer, the hallway reeked of stale smoke and the heater smelled of burnt hair. It was awful. The carpet was disgusting and while the shower was clean, the showerhead looked nasty.\\n\\nThe breakfast was mediocre. In all, I would not recommend this place.\n",
            "Prawdziwa klasa: 0\n",
            "Wyjście z sieci (logity): tensor([ 2.2135,  1.5359, -0.5700, -1.6981, -2.3458], device='cuda:0')\n",
            "Rozkład prawdopodobieństwa klas: tensor([0.6249, 0.3174, 0.0386, 0.0125, 0.0065], device='cuda:0')\n",
            "Predykowana klasa: 0\n"
          ]
        }
      ]
    },
    {
      "cell_type": "code",
      "source": [
        "preds_l = []\n",
        "targets_l = []\n",
        "\n",
        "classifier.eval()\n",
        "\n",
        "for X_batch, target in tqdm(dataloaders['test']):\n",
        "    # Przenieś dane na odpowiednie urządzenie\n",
        "    X_batch, target = X_batch.to(device), target.to(device)\n",
        "\n",
        "    # Przejście w przód (forward)\n",
        "    # Śledzenie historii obliczeń tylko w fazie trenowania\n",
        "    with torch.inference_mode():\n",
        "        logits = classifier(X_batch)\n",
        "        _, preds = torch.max(logits, dim=-1)\n",
        "        preds_l.extend(preds.cpu().numpy())\n",
        "        targets_l.extend(target.cpu().numpy())\n",
        "\n",
        "preds = np.array(preds_l)\n",
        "targets = np.array(targets_l)\n",
        "\n",
        "print(f\"{preds.shape=}\")\n",
        "print(f\"{targets.shape=}\")"
      ],
      "metadata": {
        "colab": {
          "base_uri": "https://localhost:8080/"
        },
        "id": "cTa73R73f0uB",
        "outputId": "75e85741-fb29-4523-8942-1b7f65c4dc54"
      },
      "execution_count": 23,
      "outputs": [
        {
          "output_type": "stream",
          "name": "stderr",
          "text": [
            "100%|██████████| 79/79 [00:00<00:00, 123.18it/s]"
          ]
        },
        {
          "output_type": "stream",
          "name": "stdout",
          "text": [
            "preds.shape=(20000,)\n",
            "targets.shape=(20000,)\n"
          ]
        },
        {
          "output_type": "stream",
          "name": "stderr",
          "text": [
            "\n"
          ]
        }
      ]
    },
    {
      "cell_type": "code",
      "source": [
        "from sklearn.metrics import classification_report\n",
        "\n",
        "# Nazwy klas: liczba gwaizdek od 1 do 5\n",
        "labels = ['1', '2', '3', '4', '5']\n",
        "\n",
        "report = classification_report(targets, preds, target_names = labels)\n",
        "print(report)"
      ],
      "metadata": {
        "colab": {
          "base_uri": "https://localhost:8080/"
        },
        "id": "52pMNcKNf3I0",
        "outputId": "084b7598-3808-4b22-805d-225df852259d"
      },
      "execution_count": 24,
      "outputs": [
        {
          "output_type": "stream",
          "name": "stdout",
          "text": [
            "              precision    recall  f1-score   support\n",
            "\n",
            "           1       0.65      0.75      0.70      3966\n",
            "           2       0.50      0.44      0.47      3968\n",
            "           3       0.47      0.49      0.48      3985\n",
            "           4       0.48      0.40      0.43      4079\n",
            "           5       0.64      0.69      0.66      4002\n",
            "\n",
            "    accuracy                           0.56     20000\n",
            "   macro avg       0.55      0.56      0.55     20000\n",
            "weighted avg       0.55      0.56      0.55     20000\n",
            "\n"
          ]
        }
      ]
    },
    {
      "cell_type": "code",
      "source": [
        "import matplotlib.pyplot as plt\n",
        "import seaborn as sns\n",
        "from sklearn.metrics import confusion_matrix\n",
        "cm = confusion_matrix(targets, preds)\n",
        "\n",
        "# Create a heatmap\n",
        "plt.figure(figsize=(5, 4))\n",
        "sns.heatmap(cm, annot=True, fmt='d', cmap='Blues', xticklabels=labels, yticklabels=labels)\n",
        "plt.title('Macierz pomyłek')\n",
        "plt.xlabel('Predykowana klasa')\n",
        "plt.ylabel('Prawdziwa klasa')\n",
        "plt.show()"
      ],
      "metadata": {
        "colab": {
          "base_uri": "https://localhost:8080/",
          "height": 410
        },
        "id": "ZkvcOeCPf5Mc",
        "outputId": "a69b0f00-f2a1-4a84-9d4d-7ed11f60101d"
      },
      "execution_count": 25,
      "outputs": [
        {
          "output_type": "display_data",
          "data": {
            "text/plain": [
              "<Figure size 500x400 with 2 Axes>"
            ],
            "image/png": "[encoded data removed]"
          },
          "metadata": {}
        }
      ]
    },
    {
      "cell_type": "markdown",
      "source": [
        "# **Zadanie 1**"
      ],
      "metadata": {
        "id": "UpchaeS30_3r"
      }
    },
    {
      "cell_type": "markdown",
      "source": [
        "Napisz funkcję znajdującą i wyświetlającą  k  elementów zbioru testowego dla których model najbardziej się myli, czyli estymuje najmniejsze prawdopodobieństwa prawdziwej klasy. Softmax jest funkcją ściśle rosnącą, więc wystarczy znaleźć elementy z najmniejszą wartością nieznormalizowanego wyjścia z sieci (logita) dla prawdziwej klasy.\n"
      ],
      "metadata": {
        "id": "mMydkGGMaZUK"
      }
    },
    {
      "cell_type": "code",
      "source": [
        "def find_most_misclassified(model, loaders, device, k=5):\n",
        "    model.eval()\n",
        "\n",
        "    misclassified_examples = []\n",
        "\n",
        "    with torch.no_grad():\n",
        "        for X_batch, target in loaders['test']:\n",
        "            X_batch, target = X_batch.to(device), target.to(device)\n",
        "\n",
        "            logits = model(X_batch)\n",
        "\n",
        "            logits_for_true_class = logits.gather(1, target.view(-1, 1))\n",
        "\n",
        "            for i in range(X_batch.size(0)):\n",
        "                misclassified_examples.append((logits_for_true_class[i].item(), X_batch[i], target[i]))\n",
        "\n",
        "    misclassified_examples.sort(key=lambda x: x[0])\n",
        "\n",
        "    # Wyświetl k najgorszych przykładów\n",
        "    for i in range(k):\n",
        "        logit_value, _, true_class = misclassified_examples[i]\n",
        "        print(f\"Example {i+1}:\")\n",
        "        print(f\"True Class: {true_class.item()}\")\n",
        "        print(f\"Logit Value for True Class: {logit_value:.4f}\")\n",
        "        print(\"-\" * 30)\n"
      ],
      "metadata": {
        "id": "yGzYYdC91ByU"
      },
      "execution_count": 26,
      "outputs": []
    },
    {
      "cell_type": "code",
      "source": [
        "find_most_misclassified(classifier, dataloaders, device, k=5)"
      ],
      "metadata": {
        "colab": {
          "base_uri": "https://localhost:8080/"
        },
        "id": "eGs2fYK-1GO7",
        "outputId": "d15ecefe-0857-4bef-d620-46bf1397a326"
      },
      "execution_count": 27,
      "outputs": [
        {
          "output_type": "stream",
          "name": "stdout",
          "text": [
            "Example 1:\n",
            "True Class: 4\n",
            "Logit Value for True Class: -2.5284\n",
            "------------------------------\n",
            "Example 2:\n",
            "True Class: 4\n",
            "Logit Value for True Class: -2.5111\n",
            "------------------------------\n",
            "Example 3:\n",
            "True Class: 4\n",
            "Logit Value for True Class: -2.3315\n",
            "------------------------------\n",
            "Example 4:\n",
            "True Class: 4\n",
            "Logit Value for True Class: -2.2644\n",
            "------------------------------\n",
            "Example 5:\n",
            "True Class: 4\n",
            "Logit Value for True Class: -2.1315\n",
            "------------------------------\n"
          ]
        }
      ]
    },
    {
      "cell_type": "markdown",
      "source": [
        "# **Zadanie 2**\n"
      ],
      "metadata": {
        "id": "TILZ1Niq3Fuc"
      }
    },
    {
      "cell_type": "markdown",
      "source": [
        "Zbadaj wpływ wybranych parametrów funkcji ekstrakcji cech z tekstu TfidfVectorizer na skuteczność wytrenowanego modelu. Uruchom kilka eksperymentów z różnymi wartościami parametrów i porównaj dokładność wytrenowanego modelu na zbiorze walidacyjnym.\n"
      ],
      "metadata": {
        "id": "asCnnZV6ada2"
      }
    },
    {
      "cell_type": "code",
      "source": [
        "def train_tfidf(model, dataloaders, criterion, optimizer, lr_scheduler, num_epochs, device):\n",
        "    for epoch in range(num_epochs):\n",
        "        model.train()\n",
        "        running_loss = 0.0\n",
        "\n",
        "        for inputs, labels in dataloaders['train']:\n",
        "            inputs, labels = inputs.to(device), labels.to(device)\n",
        "\n",
        "            optimizer.zero_grad()\n",
        "            outputs = model(inputs)\n",
        "            loss = criterion(outputs, labels)\n",
        "            loss.backward()\n",
        "            optimizer.step()\n",
        "\n",
        "            running_loss += loss.item()\n",
        "\n",
        "        lr_scheduler.step()\n",
        "\n",
        "        print(f\"Epoch {epoch+1}/{num_epochs}, Loss: {running_loss / len(dataloaders['train']):.4f}\")\n",
        "\n",
        "        model.eval()\n",
        "        val_loss = 0.0\n",
        "        val_correct = 0\n",
        "        val_total = 0\n",
        "\n",
        "        with torch.no_grad():\n",
        "            for inputs, labels in dataloaders['val']:\n",
        "                inputs, labels = inputs.to(device), labels.to(device)\n",
        "                outputs = model(inputs)\n",
        "                loss = criterion(outputs, labels)\n",
        "                val_loss += loss.item()\n",
        "\n",
        "                _, predicted = torch.max(outputs, 1)\n",
        "                val_total += labels.size(0)\n",
        "                val_correct += (predicted == labels).sum().item()\n",
        "\n",
        "        val_accuracy = val_correct / val_total\n",
        "        print(f\"Validation Loss: {val_loss / len(dataloaders['val']):.4f}, Validation Accuracy: {val_accuracy:.4f}\")\n"
      ],
      "metadata": {
        "id": "RvXTrZ4vNLQr"
      },
      "execution_count": 28,
      "outputs": []
    },
    {
      "cell_type": "code",
      "source": [
        "from sklearn.metrics import accuracy_score\n",
        "\n",
        "def run_experiment_with_params_from_list(train_dataset, val_dataset, test_dataset, params_list, device='cuda'):\n",
        "    results = []\n",
        "\n",
        "    for params in params_list:\n",
        "        max_features = params[\"max_features\"]\n",
        "        ngram_range = params[\"ngram_range\"]\n",
        "        stop_words = params[\"stop_words\"]\n",
        "        lowercase = params[\"lowercase\"]\n",
        "\n",
        "        print(f\"Testing: max_features={max_features}, ngram_range={ngram_range}, stop_words={stop_words}, lowercase={lowercase}\")\n",
        "\n",
        "        # Inicjalizacja TfidfVectorizer\n",
        "        vectorizer = TfidfVectorizer(\n",
        "            max_features=max_features,\n",
        "            lowercase=lowercase,\n",
        "            analyzer='word',\n",
        "            ngram_range=ngram_range,\n",
        "            stop_words=stop_words\n",
        "        )\n",
        "\n",
        "        # Ekstrakcja cech\n",
        "        train_tfidf_matrix = vectorizer.fit_transform(train_dataset[\"text\"])\n",
        "        val_tfidf_matrix = vectorizer.transform(val_dataset[\"text\"])\n",
        "        test_tfidf_matrix = vectorizer.transform(test_dataset[\"text\"])\n",
        "\n",
        "        # Tworzenie datasetów\n",
        "        train_data = make_dataset(train_tfidf_matrix, train_dataset[\"label\"])\n",
        "        val_data = make_dataset(val_tfidf_matrix, val_dataset[\"label\"])\n",
        "        test_data = make_dataset(test_tfidf_matrix, test_dataset[\"label\"])\n",
        "\n",
        "        batch_size = 256\n",
        "        dataloaders = {\n",
        "            'train': DataLoader(train_data, batch_size=batch_size, shuffle=True),\n",
        "            'val': DataLoader(val_data, batch_size=batch_size, shuffle=False),\n",
        "            'test': DataLoader(test_data, batch_size=batch_size, shuffle=False)\n",
        "        }\n",
        "\n",
        "        # Model\n",
        "        model = SimpleNet(vocab_size=max_features, n_classes=5).to(device)\n",
        "        criterion = torch.nn.CrossEntropyLoss()\n",
        "        optimizer = torch.optim.AdamW(model.parameters(), lr=1e-4, weight_decay=1e-5)\n",
        "        lr_scheduler = torch.optim.lr_scheduler.CosineAnnealingLR(optimizer, T_max=5, eta_min=1e-5)\n",
        "\n",
        "        train_tfidf(model, dataloaders, criterion, optimizer, lr_scheduler, num_epochs=5, device=device)\n",
        "\n",
        "        # Ocena na zbiorze walidacyjnym\n",
        "        model.eval()\n",
        "        val_tensor = torch.tensor(val_tfidf_matrix.todense(), dtype=torch.float32).to(device)\n",
        "        val_preds = model(val_tensor).argmax(dim=1)\n",
        "        val_acc = accuracy_score(val_dataset[\"label\"], val_preds.cpu())\n",
        "\n",
        "        print(f\"Validation accuracy: {val_acc:.4f}\")\n",
        "\n",
        "        results.append({\n",
        "            'params': params,\n",
        "            'val_accuracy': val_acc\n",
        "        })\n",
        "\n",
        "    return results\n"
      ],
      "metadata": {
        "id": "hjNgWOp4RmxZ"
      },
      "execution_count": 29,
      "outputs": []
    },
    {
      "cell_type": "code",
      "source": [
        "params_list = [\n",
        "    {\"max_features\": 1000, \"ngram_range\": (1, 1), \"stop_words\": \"english\", \"lowercase\": True},\n",
        "    {\"max_features\": 1000, \"ngram_range\": (1, 2), \"stop_words\": \"english\", \"lowercase\": True},\n",
        "    {\"max_features\": 5000, \"ngram_range\": (1, 1), \"stop_words\": \"english\", \"lowercase\": True},\n",
        "    {\"max_features\": 3000, \"ngram_range\": (1, 1), \"stop_words\": None, \"lowercase\": True},\n",
        "    {\"max_features\": 3000, \"ngram_range\": (1, 1), \"stop_words\": \"english\", \"lowercase\": False},\n",
        "    {\"max_features\": 5000, \"ngram_range\": (1, 1), \"stop_words\": \"english\", \"lowercase\": True},\n",
        "]\n",
        "\n",
        "device = 'cuda' if torch.cuda.is_available() else 'cpu'\n",
        "results = run_experiment_with_params_from_list(train_dataset, val_dataset, test_dataset, params_list, device)\n"
      ],
      "metadata": {
        "colab": {
          "base_uri": "https://localhost:8080/"
        },
        "id": "grH1ocW1R6ay",
        "outputId": "d3bc86fd-bb11-4bf6-ecb0-b89a9657cbb9"
      },
      "execution_count": 30,
      "outputs": [
        {
          "output_type": "stream",
          "name": "stdout",
          "text": [
            "Testing: max_features=1000, ngram_range=(1, 1), stop_words=english, lowercase=True\n",
            "Epoch 1/5, Loss: 1.6014\n",
            "Validation Loss: 1.5673, Validation Accuracy: 0.3621\n",
            "Epoch 2/5, Loss: 1.5098\n",
            "Validation Loss: 1.4351, Validation Accuracy: 0.3983\n",
            "Epoch 3/5, Loss: 1.3901\n",
            "Validation Loss: 1.3341, Validation Accuracy: 0.4405\n",
            "Epoch 4/5, Loss: 1.3165\n",
            "Validation Loss: 1.2835, Validation Accuracy: 0.4802\n",
            "Epoch 5/5, Loss: 1.2827\n",
            "Validation Loss: 1.2638, Validation Accuracy: 0.4906\n",
            "Validation accuracy: 0.4906\n",
            "Testing: max_features=1000, ngram_range=(1, 2), stop_words=english, lowercase=True\n",
            "Epoch 1/5, Loss: 1.6135\n",
            "Validation Loss: 1.5971, Validation Accuracy: 0.2058\n",
            "Epoch 2/5, Loss: 1.5653\n",
            "Validation Loss: 1.5166, Validation Accuracy: 0.4510\n",
            "Epoch 3/5, Loss: 1.4629\n",
            "Validation Loss: 1.4026, Validation Accuracy: 0.4810\n",
            "Epoch 4/5, Loss: 1.3731\n",
            "Validation Loss: 1.3373, Validation Accuracy: 0.4988\n",
            "Epoch 5/5, Loss: 1.3292\n",
            "Validation Loss: 1.3113, Validation Accuracy: 0.5045\n",
            "Validation accuracy: 0.5045\n",
            "Testing: max_features=5000, ngram_range=(1, 1), stop_words=english, lowercase=True\n",
            "Epoch 1/5, Loss: 1.6093\n",
            "Validation Loss: 1.5923, Validation Accuracy: 0.1888\n",
            "Epoch 2/5, Loss: 1.5487\n",
            "Validation Loss: 1.4908, Validation Accuracy: 0.3223\n",
            "Epoch 3/5, Loss: 1.4316\n",
            "Validation Loss: 1.3809, Validation Accuracy: 0.3916\n",
            "Epoch 4/5, Loss: 1.3504\n",
            "Validation Loss: 1.3267, Validation Accuracy: 0.4187\n",
            "Epoch 5/5, Loss: 1.3134\n",
            "Validation Loss: 1.3061, Validation Accuracy: 0.4230\n",
            "Validation accuracy: 0.4230\n",
            "Testing: max_features=3000, ngram_range=(1, 1), stop_words=None, lowercase=True\n",
            "Epoch 1/5, Loss: 1.5975\n",
            "Validation Loss: 1.5515, Validation Accuracy: 0.3594\n",
            "Epoch 2/5, Loss: 1.4771\n",
            "Validation Loss: 1.3908, Validation Accuracy: 0.4741\n",
            "Epoch 3/5, Loss: 1.3359\n",
            "Validation Loss: 1.2745, Validation Accuracy: 0.4996\n",
            "Epoch 4/5, Loss: 1.2527\n",
            "Validation Loss: 1.2183, Validation Accuracy: 0.5218\n",
            "Epoch 5/5, Loss: 1.2147\n",
            "Validation Loss: 1.1964, Validation Accuracy: 0.5282\n",
            "Validation accuracy: 0.5282\n",
            "Testing: max_features=3000, ngram_range=(1, 1), stop_words=english, lowercase=False\n",
            "Epoch 1/5, Loss: 1.6039\n",
            "Validation Loss: 1.5828, Validation Accuracy: 0.2755\n",
            "Epoch 2/5, Loss: 1.5404\n",
            "Validation Loss: 1.4785, Validation Accuracy: 0.3628\n",
            "Epoch 3/5, Loss: 1.4324\n",
            "Validation Loss: 1.3824, Validation Accuracy: 0.4182\n",
            "Epoch 4/5, Loss: 1.3582\n",
            "Validation Loss: 1.3284, Validation Accuracy: 0.4409\n",
            "Epoch 5/5, Loss: 1.3206\n",
            "Validation Loss: 1.3073, Validation Accuracy: 0.4510\n",
            "Validation accuracy: 0.4510\n",
            "Testing: max_features=5000, ngram_range=(1, 1), stop_words=english, lowercase=True\n",
            "Epoch 1/5, Loss: 1.5921\n",
            "Validation Loss: 1.5450, Validation Accuracy: 0.3715\n",
            "Epoch 2/5, Loss: 1.4683\n",
            "Validation Loss: 1.3873, Validation Accuracy: 0.3895\n",
            "Epoch 3/5, Loss: 1.3379\n",
            "Validation Loss: 1.2901, Validation Accuracy: 0.4212\n",
            "Epoch 4/5, Loss: 1.2661\n",
            "Validation Loss: 1.2436, Validation Accuracy: 0.4393\n",
            "Epoch 5/5, Loss: 1.2344\n",
            "Validation Loss: 1.2264, Validation Accuracy: 0.4715\n",
            "Validation accuracy: 0.4715\n"
          ]
        }
      ]
    },
    {
      "cell_type": "markdown",
      "source": [
        "# **Zadanie 3**"
      ],
      "metadata": {
        "id": "7YP9Ugyy3LzW"
      }
    },
    {
      "cell_type": "markdown",
      "source": [
        "Zbadaj wpływ wybranych hiperparametrów modelu (np. liczba warstw liniowych modelu, rozmiary warstw) i procesu uczenia (np. początkowa wartość stopy uczenia, liczba epok, typ i parametry planisty stopy uczenia, typ i parametry optymalizatora) na skuteczność wytrenowanego modelu. Uruchom kilka eksperymentów z różnymi wartościami hiperparametrów i porównaj dokładność wytrenowanego modelu na zbiorze walidacyjnym. Następnie wykonaj finalną ewaluację najlepszego modelu na zbiorze testowym."
      ],
      "metadata": {
        "id": "EBLqRAPaahPY"
      }
    },
    {
      "cell_type": "code",
      "source": [
        "import torch.optim as optim\n",
        "\n",
        "# Hiperparametry do przetestowania\n",
        "experiment_configs = [\n",
        "    {\"hidden_sizes\": [64, 16], \"learning_rate\": 0.01, \"optimizer\": \"Adam\", \"scheduler\": None, \"epochs\": 10},\n",
        "    {\"hidden_sizes\": [128, 32], \"learning_rate\": 0.001, \"optimizer\": \"SGD\", \"scheduler\": \"StepLR\", \"epochs\": 20},\n",
        "    {\"hidden_sizes\": [256, 64, 16], \"learning_rate\": 0.005, \"optimizer\": \"Adam\", \"scheduler\": \"CosineAnnealingLR\", \"epochs\": 15},\n",
        "    {\"hidden_sizes\": [512, 256, 64], \"learning_rate\": 0.001, \"optimizer\": \"Adam\", \"scheduler\": \"CosineAnnealingLR\", \"epochs\": 20},\n",
        "    {\"hidden_sizes\": [256, 64], \"learning_rate\": 0.0005, \"optimizer\": \"Adam\", \"scheduler\": \"CosineAnnealingLR\", \"epochs\": 30}\n",
        "]"
      ],
      "metadata": {
        "id": "vg72OZVf3Pr1"
      },
      "execution_count": 31,
      "outputs": []
    },
    {
      "cell_type": "code",
      "source": [
        "class SimpleNetHyperparameters(nn.Module):\n",
        "    def __init__(self, vocab_size: int, n_classes: int, hidden_sizes: list[int]):\n",
        "        super().__init__()\n",
        "        layers = []\n",
        "        input_size = vocab_size\n",
        "\n",
        "        # Tworzymy dynamicznie warstwy ukryte\n",
        "        for size in hidden_sizes:\n",
        "            layers.append(nn.Linear(input_size, size))\n",
        "            layers.append(nn.ReLU())\n",
        "            input_size = size\n",
        "\n",
        "        self.feature_extractor = nn.Sequential(*layers)\n",
        "        self.dropout = nn.Dropout(0.1)\n",
        "        self.linear = nn.Linear(input_size, n_classes)\n",
        "\n",
        "    def forward(self, x: torch.Tensor) -> torch.Tensor:\n",
        "        features = self.feature_extractor(x)\n",
        "        features = self.dropout(features)\n",
        "        logits = self.linear(features)\n",
        "        return logits\n"
      ],
      "metadata": {
        "id": "-sCWPTV-b0Bc"
      },
      "execution_count": 32,
      "outputs": []
    },
    {
      "cell_type": "code",
      "source": [
        "def train_and_evaluate(config, train_loader, val_loader):\n",
        "    print(f\"\\nTrening z konfiguracją: {config}\")\n",
        "\n",
        "    model = SimpleNetHyperparameters(vocab_size, n_classes=5, hidden_sizes=config[\"hidden_sizes\"]).to(device)\n",
        "    criterion = nn.CrossEntropyLoss()\n",
        "\n",
        "    # Wybór optymalizatora\n",
        "    if config[\"optimizer\"] == \"Adam\":\n",
        "        optimizer = optim.Adam(model.parameters(), lr=config[\"learning_rate\"])\n",
        "    elif config[\"optimizer\"] == \"SGD\":\n",
        "        optimizer = optim.SGD(model.parameters(), lr=config[\"learning_rate\"], momentum=0.9)\n",
        "\n",
        "    # Wybór scheduler'a\n",
        "    if config[\"scheduler\"] == \"StepLR\":\n",
        "        scheduler = optim.lr_scheduler.StepLR(optimizer, step_size=5, gamma=0.5)\n",
        "    elif config[\"scheduler\"] == \"CosineAnnealingLR\":\n",
        "        scheduler = optim.lr_scheduler.CosineAnnealingLR(optimizer, T_max=config[\"epochs\"])\n",
        "    else:\n",
        "        scheduler = None\n",
        "\n",
        "    # Metryki\n",
        "    metric_acc = torchmetrics.classification.Accuracy(task=\"multiclass\", num_classes=5).to(device)\n",
        "\n",
        "    for epoch in range(config[\"epochs\"]):\n",
        "        model.train()\n",
        "        for X_batch, target in tqdm(train_loader, desc=f\"Epoch {epoch+1}/{config['epochs']}\"):\n",
        "            X_batch, target = X_batch.to(device), target.to(device)\n",
        "            optimizer.zero_grad()\n",
        "            logits = model(X_batch)\n",
        "            loss = criterion(logits, target)\n",
        "            loss.backward()\n",
        "            optimizer.step()\n",
        "\n",
        "        # Aktualizacja scheduler'a\n",
        "        if scheduler:\n",
        "            scheduler.step()\n",
        "\n",
        "        # Ewaluacja na zbiorze walidacyjnym\n",
        "        model.eval()\n",
        "        metric_acc.reset()\n",
        "        with torch.no_grad():\n",
        "            for X_batch, target in val_loader:\n",
        "                X_batch, target = X_batch.to(device), target.to(device)\n",
        "                logits = model(X_batch)\n",
        "                preds = torch.argmax(logits, dim=1)\n",
        "                metric_acc.update(preds, target)\n",
        "\n",
        "        acc = metric_acc.compute().item()\n",
        "        print(f\"(Epoch {epoch+1}/{config['epochs']}) Accuracy: {acc:.4f}\")\n",
        "\n",
        "    return model, acc\n"
      ],
      "metadata": {
        "id": "6IXUu0dlb_M7"
      },
      "execution_count": 33,
      "outputs": []
    },
    {
      "cell_type": "code",
      "source": [
        "best_model = None\n",
        "best_accuracy = 0\n",
        "results = []\n",
        "\n",
        "train_loader = dataloaders['train']\n",
        "val_loader = dataloaders['val']\n",
        "test_loader = dataloaders['test']\n",
        "\n",
        "for config in experiment_configs:\n",
        "\n",
        "    model, acc = train_and_evaluate(config, train_loader, val_loader)\n",
        "    results.append((config, acc))\n",
        "\n",
        "    # Sprawdzamy, czy to najlepszy model\n",
        "    if acc > best_accuracy:\n",
        "        best_accuracy = acc\n",
        "        best_model = model\n",
        "\n",
        "# Wyświetlenie wyników\n",
        "for config, acc in results:\n",
        "    print(f\"Konfiguracja: {config} | Dokładność: {acc:.4f}\")\n"
      ],
      "metadata": {
        "id": "B8tsfwtQcD2w",
        "colab": {
          "base_uri": "https://localhost:8080/"
        },
        "outputId": "8c94e442-5073-4abd-ac9b-962dc123cbe7"
      },
      "execution_count": 34,
      "outputs": [
        {
          "output_type": "stream",
          "name": "stdout",
          "text": [
            "\n",
            "Trening z konfiguracją: {'hidden_sizes': [64, 16], 'learning_rate': 0.01, 'optimizer': 'Adam', 'scheduler': None, 'epochs': 10}\n"
          ]
        },
        {
          "output_type": "stream",
          "name": "stderr",
          "text": [
            "Epoch 1/10: 100%|██████████| 305/305 [00:02<00:00, 117.89it/s]\n"
          ]
        },
        {
          "output_type": "stream",
          "name": "stdout",
          "text": [
            "(Epoch 1/10) Accuracy: 0.5678\n"
          ]
        },
        {
          "output_type": "stream",
          "name": "stderr",
          "text": [
            "Epoch 2/10: 100%|██████████| 305/305 [00:02<00:00, 134.66it/s]\n"
          ]
        },
        {
          "output_type": "stream",
          "name": "stdout",
          "text": [
            "(Epoch 2/10) Accuracy: 0.5562\n"
          ]
        },
        {
          "output_type": "stream",
          "name": "stderr",
          "text": [
            "Epoch 3/10: 100%|██████████| 305/305 [00:02<00:00, 139.93it/s]\n"
          ]
        },
        {
          "output_type": "stream",
          "name": "stdout",
          "text": [
            "(Epoch 3/10) Accuracy: 0.5478\n"
          ]
        },
        {
          "output_type": "stream",
          "name": "stderr",
          "text": [
            "Epoch 4/10: 100%|██████████| 305/305 [00:02<00:00, 115.72it/s]\n"
          ]
        },
        {
          "output_type": "stream",
          "name": "stdout",
          "text": [
            "(Epoch 4/10) Accuracy: 0.5322\n"
          ]
        },
        {
          "output_type": "stream",
          "name": "stderr",
          "text": [
            "Epoch 5/10: 100%|██████████| 305/305 [00:02<00:00, 139.45it/s]\n"
          ]
        },
        {
          "output_type": "stream",
          "name": "stdout",
          "text": [
            "(Epoch 5/10) Accuracy: 0.5165\n"
          ]
        },
        {
          "output_type": "stream",
          "name": "stderr",
          "text": [
            "Epoch 6/10: 100%|██████████| 305/305 [00:02<00:00, 141.18it/s]\n"
          ]
        },
        {
          "output_type": "stream",
          "name": "stdout",
          "text": [
            "(Epoch 6/10) Accuracy: 0.5089\n"
          ]
        },
        {
          "output_type": "stream",
          "name": "stderr",
          "text": [
            "Epoch 7/10: 100%|██████████| 305/305 [00:02<00:00, 132.22it/s]\n"
          ]
        },
        {
          "output_type": "stream",
          "name": "stdout",
          "text": [
            "(Epoch 7/10) Accuracy: 0.5093\n"
          ]
        },
        {
          "output_type": "stream",
          "name": "stderr",
          "text": [
            "Epoch 8/10: 100%|██████████| 305/305 [00:02<00:00, 141.05it/s]\n"
          ]
        },
        {
          "output_type": "stream",
          "name": "stdout",
          "text": [
            "(Epoch 8/10) Accuracy: 0.5051\n"
          ]
        },
        {
          "output_type": "stream",
          "name": "stderr",
          "text": [
            "Epoch 9/10: 100%|██████████| 305/305 [00:02<00:00, 110.86it/s]\n"
          ]
        },
        {
          "output_type": "stream",
          "name": "stdout",
          "text": [
            "(Epoch 9/10) Accuracy: 0.5081\n"
          ]
        },
        {
          "output_type": "stream",
          "name": "stderr",
          "text": [
            "Epoch 10/10: 100%|██████████| 305/305 [00:02<00:00, 138.19it/s]\n"
          ]
        },
        {
          "output_type": "stream",
          "name": "stdout",
          "text": [
            "(Epoch 10/10) Accuracy: 0.5065\n",
            "\n",
            "Trening z konfiguracją: {'hidden_sizes': [128, 32], 'learning_rate': 0.001, 'optimizer': 'SGD', 'scheduler': 'StepLR', 'epochs': 20}\n"
          ]
        },
        {
          "output_type": "stream",
          "name": "stderr",
          "text": [
            "Epoch 1/20: 100%|██████████| 305/305 [00:02<00:00, 129.89it/s]\n"
          ]
        },
        {
          "output_type": "stream",
          "name": "stdout",
          "text": [
            "(Epoch 1/20) Accuracy: 0.1888\n"
          ]
        },
        {
          "output_type": "stream",
          "name": "stderr",
          "text": [
            "Epoch 2/20: 100%|██████████| 305/305 [00:02<00:00, 135.83it/s]\n"
          ]
        },
        {
          "output_type": "stream",
          "name": "stdout",
          "text": [
            "(Epoch 2/20) Accuracy: 0.1888\n"
          ]
        },
        {
          "output_type": "stream",
          "name": "stderr",
          "text": [
            "Epoch 3/20: 100%|██████████| 305/305 [00:02<00:00, 125.57it/s]\n"
          ]
        },
        {
          "output_type": "stream",
          "name": "stdout",
          "text": [
            "(Epoch 3/20) Accuracy: 0.1888\n"
          ]
        },
        {
          "output_type": "stream",
          "name": "stderr",
          "text": [
            "Epoch 4/20: 100%|██████████| 305/305 [00:02<00:00, 108.27it/s]\n"
          ]
        },
        {
          "output_type": "stream",
          "name": "stdout",
          "text": [
            "(Epoch 4/20) Accuracy: 0.2063\n"
          ]
        },
        {
          "output_type": "stream",
          "name": "stderr",
          "text": [
            "Epoch 5/20: 100%|██████████| 305/305 [00:02<00:00, 135.24it/s]\n"
          ]
        },
        {
          "output_type": "stream",
          "name": "stdout",
          "text": [
            "(Epoch 5/20) Accuracy: 0.2063\n"
          ]
        },
        {
          "output_type": "stream",
          "name": "stderr",
          "text": [
            "Epoch 6/20: 100%|██████████| 305/305 [00:02<00:00, 133.55it/s]\n"
          ]
        },
        {
          "output_type": "stream",
          "name": "stdout",
          "text": [
            "(Epoch 6/20) Accuracy: 0.2063\n"
          ]
        },
        {
          "output_type": "stream",
          "name": "stderr",
          "text": [
            "Epoch 7/20: 100%|██████████| 305/305 [00:02<00:00, 133.81it/s]\n"
          ]
        },
        {
          "output_type": "stream",
          "name": "stdout",
          "text": [
            "(Epoch 7/20) Accuracy: 0.2063\n"
          ]
        },
        {
          "output_type": "stream",
          "name": "stderr",
          "text": [
            "Epoch 8/20: 100%|██████████| 305/305 [00:02<00:00, 117.44it/s]\n"
          ]
        },
        {
          "output_type": "stream",
          "name": "stdout",
          "text": [
            "(Epoch 8/20) Accuracy: 0.2063\n"
          ]
        },
        {
          "output_type": "stream",
          "name": "stderr",
          "text": [
            "Epoch 9/20: 100%|██████████| 305/305 [00:02<00:00, 126.21it/s]\n"
          ]
        },
        {
          "output_type": "stream",
          "name": "stdout",
          "text": [
            "(Epoch 9/20) Accuracy: 0.2063\n"
          ]
        },
        {
          "output_type": "stream",
          "name": "stderr",
          "text": [
            "Epoch 10/20: 100%|██████████| 305/305 [00:02<00:00, 133.22it/s]\n"
          ]
        },
        {
          "output_type": "stream",
          "name": "stdout",
          "text": [
            "(Epoch 10/20) Accuracy: 0.2063\n"
          ]
        },
        {
          "output_type": "stream",
          "name": "stderr",
          "text": [
            "Epoch 11/20: 100%|██████████| 305/305 [00:02<00:00, 121.06it/s]\n"
          ]
        },
        {
          "output_type": "stream",
          "name": "stdout",
          "text": [
            "(Epoch 11/20) Accuracy: 0.2063\n"
          ]
        },
        {
          "output_type": "stream",
          "name": "stderr",
          "text": [
            "Epoch 12/20: 100%|██████████| 305/305 [00:02<00:00, 134.11it/s]\n"
          ]
        },
        {
          "output_type": "stream",
          "name": "stdout",
          "text": [
            "(Epoch 12/20) Accuracy: 0.2063\n"
          ]
        },
        {
          "output_type": "stream",
          "name": "stderr",
          "text": [
            "Epoch 13/20: 100%|██████████| 305/305 [00:02<00:00, 112.49it/s]\n"
          ]
        },
        {
          "output_type": "stream",
          "name": "stdout",
          "text": [
            "(Epoch 13/20) Accuracy: 0.2063\n"
          ]
        },
        {
          "output_type": "stream",
          "name": "stderr",
          "text": [
            "Epoch 14/20: 100%|██████████| 305/305 [00:02<00:00, 133.46it/s]\n"
          ]
        },
        {
          "output_type": "stream",
          "name": "stdout",
          "text": [
            "(Epoch 14/20) Accuracy: 0.2063\n"
          ]
        },
        {
          "output_type": "stream",
          "name": "stderr",
          "text": [
            "Epoch 15/20: 100%|██████████| 305/305 [00:02<00:00, 135.30it/s]\n"
          ]
        },
        {
          "output_type": "stream",
          "name": "stdout",
          "text": [
            "(Epoch 15/20) Accuracy: 0.2063\n"
          ]
        },
        {
          "output_type": "stream",
          "name": "stderr",
          "text": [
            "Epoch 16/20: 100%|██████████| 305/305 [00:02<00:00, 135.78it/s]\n"
          ]
        },
        {
          "output_type": "stream",
          "name": "stdout",
          "text": [
            "(Epoch 16/20) Accuracy: 0.2063\n"
          ]
        },
        {
          "output_type": "stream",
          "name": "stderr",
          "text": [
            "Epoch 17/20: 100%|██████████| 305/305 [00:02<00:00, 112.11it/s]\n"
          ]
        },
        {
          "output_type": "stream",
          "name": "stdout",
          "text": [
            "(Epoch 17/20) Accuracy: 0.2063\n"
          ]
        },
        {
          "output_type": "stream",
          "name": "stderr",
          "text": [
            "Epoch 18/20: 100%|██████████| 305/305 [00:02<00:00, 118.56it/s]\n"
          ]
        },
        {
          "output_type": "stream",
          "name": "stdout",
          "text": [
            "(Epoch 18/20) Accuracy: 0.2063\n"
          ]
        },
        {
          "output_type": "stream",
          "name": "stderr",
          "text": [
            "Epoch 19/20: 100%|██████████| 305/305 [00:02<00:00, 135.09it/s]\n"
          ]
        },
        {
          "output_type": "stream",
          "name": "stdout",
          "text": [
            "(Epoch 19/20) Accuracy: 0.2063\n"
          ]
        },
        {
          "output_type": "stream",
          "name": "stderr",
          "text": [
            "Epoch 20/20: 100%|██████████| 305/305 [00:02<00:00, 133.04it/s]\n"
          ]
        },
        {
          "output_type": "stream",
          "name": "stdout",
          "text": [
            "(Epoch 20/20) Accuracy: 0.2063\n",
            "\n",
            "Trening z konfiguracją: {'hidden_sizes': [256, 64, 16], 'learning_rate': 0.005, 'optimizer': 'Adam', 'scheduler': 'CosineAnnealingLR', 'epochs': 15}\n"
          ]
        },
        {
          "output_type": "stream",
          "name": "stderr",
          "text": [
            "Epoch 1/15: 100%|██████████| 305/305 [00:02<00:00, 126.92it/s]\n"
          ]
        },
        {
          "output_type": "stream",
          "name": "stdout",
          "text": [
            "(Epoch 1/15) Accuracy: 0.5644\n"
          ]
        },
        {
          "output_type": "stream",
          "name": "stderr",
          "text": [
            "Epoch 2/15: 100%|██████████| 305/305 [00:02<00:00, 112.48it/s]\n"
          ]
        },
        {
          "output_type": "stream",
          "name": "stdout",
          "text": [
            "(Epoch 2/15) Accuracy: 0.5587\n"
          ]
        },
        {
          "output_type": "stream",
          "name": "stderr",
          "text": [
            "Epoch 3/15: 100%|██████████| 305/305 [00:02<00:00, 123.45it/s]\n"
          ]
        },
        {
          "output_type": "stream",
          "name": "stdout",
          "text": [
            "(Epoch 3/15) Accuracy: 0.5487\n"
          ]
        },
        {
          "output_type": "stream",
          "name": "stderr",
          "text": [
            "Epoch 4/15: 100%|██████████| 305/305 [00:02<00:00, 113.28it/s]\n"
          ]
        },
        {
          "output_type": "stream",
          "name": "stdout",
          "text": [
            "(Epoch 4/15) Accuracy: 0.5325\n"
          ]
        },
        {
          "output_type": "stream",
          "name": "stderr",
          "text": [
            "Epoch 5/15: 100%|██████████| 305/305 [00:02<00:00, 128.15it/s]\n"
          ]
        },
        {
          "output_type": "stream",
          "name": "stdout",
          "text": [
            "(Epoch 5/15) Accuracy: 0.5289\n"
          ]
        },
        {
          "output_type": "stream",
          "name": "stderr",
          "text": [
            "Epoch 6/15: 100%|██████████| 305/305 [00:02<00:00, 117.63it/s]\n"
          ]
        },
        {
          "output_type": "stream",
          "name": "stdout",
          "text": [
            "(Epoch 6/15) Accuracy: 0.5202\n"
          ]
        },
        {
          "output_type": "stream",
          "name": "stderr",
          "text": [
            "Epoch 7/15: 100%|██████████| 305/305 [00:02<00:00, 112.51it/s]\n"
          ]
        },
        {
          "output_type": "stream",
          "name": "stdout",
          "text": [
            "(Epoch 7/15) Accuracy: 0.5275\n"
          ]
        },
        {
          "output_type": "stream",
          "name": "stderr",
          "text": [
            "Epoch 8/15: 100%|██████████| 305/305 [00:02<00:00, 127.88it/s]\n"
          ]
        },
        {
          "output_type": "stream",
          "name": "stdout",
          "text": [
            "(Epoch 8/15) Accuracy: 0.5251\n"
          ]
        },
        {
          "output_type": "stream",
          "name": "stderr",
          "text": [
            "Epoch 9/15: 100%|██████████| 305/305 [00:02<00:00, 127.72it/s]\n"
          ]
        },
        {
          "output_type": "stream",
          "name": "stdout",
          "text": [
            "(Epoch 9/15) Accuracy: 0.5247\n"
          ]
        },
        {
          "output_type": "stream",
          "name": "stderr",
          "text": [
            "Epoch 10/15: 100%|██████████| 305/305 [00:02<00:00, 117.03it/s]\n"
          ]
        },
        {
          "output_type": "stream",
          "name": "stdout",
          "text": [
            "(Epoch 10/15) Accuracy: 0.5275\n"
          ]
        },
        {
          "output_type": "stream",
          "name": "stderr",
          "text": [
            "Epoch 11/15: 100%|██████████| 305/305 [00:02<00:00, 103.30it/s]\n"
          ]
        },
        {
          "output_type": "stream",
          "name": "stdout",
          "text": [
            "(Epoch 11/15) Accuracy: 0.5239\n"
          ]
        },
        {
          "output_type": "stream",
          "name": "stderr",
          "text": [
            "Epoch 12/15: 100%|██████████| 305/305 [00:02<00:00, 128.15it/s]\n"
          ]
        },
        {
          "output_type": "stream",
          "name": "stdout",
          "text": [
            "(Epoch 12/15) Accuracy: 0.5301\n"
          ]
        },
        {
          "output_type": "stream",
          "name": "stderr",
          "text": [
            "Epoch 13/15: 100%|██████████| 305/305 [00:02<00:00, 127.85it/s]\n"
          ]
        },
        {
          "output_type": "stream",
          "name": "stdout",
          "text": [
            "(Epoch 13/15) Accuracy: 0.5289\n"
          ]
        },
        {
          "output_type": "stream",
          "name": "stderr",
          "text": [
            "Epoch 14/15: 100%|██████████| 305/305 [00:02<00:00, 128.80it/s]\n"
          ]
        },
        {
          "output_type": "stream",
          "name": "stdout",
          "text": [
            "(Epoch 14/15) Accuracy: 0.5282\n"
          ]
        },
        {
          "output_type": "stream",
          "name": "stderr",
          "text": [
            "Epoch 15/15: 100%|██████████| 305/305 [00:02<00:00, 119.36it/s]\n"
          ]
        },
        {
          "output_type": "stream",
          "name": "stdout",
          "text": [
            "(Epoch 15/15) Accuracy: 0.5297\n",
            "\n",
            "Trening z konfiguracją: {'hidden_sizes': [512, 256, 64], 'learning_rate': 0.001, 'optimizer': 'Adam', 'scheduler': 'CosineAnnealingLR', 'epochs': 20}\n"
          ]
        },
        {
          "output_type": "stream",
          "name": "stderr",
          "text": [
            "Epoch 1/20: 100%|██████████| 305/305 [00:02<00:00, 115.41it/s]\n"
          ]
        },
        {
          "output_type": "stream",
          "name": "stdout",
          "text": [
            "(Epoch 1/20) Accuracy: 0.5636\n"
          ]
        },
        {
          "output_type": "stream",
          "name": "stderr",
          "text": [
            "Epoch 2/20: 100%|██████████| 305/305 [00:02<00:00, 116.13it/s]\n"
          ]
        },
        {
          "output_type": "stream",
          "name": "stdout",
          "text": [
            "(Epoch 2/20) Accuracy: 0.5634\n"
          ]
        },
        {
          "output_type": "stream",
          "name": "stderr",
          "text": [
            "Epoch 3/20: 100%|██████████| 305/305 [00:02<00:00, 130.36it/s]\n"
          ]
        },
        {
          "output_type": "stream",
          "name": "stdout",
          "text": [
            "(Epoch 3/20) Accuracy: 0.5553\n"
          ]
        },
        {
          "output_type": "stream",
          "name": "stderr",
          "text": [
            "Epoch 4/20: 100%|██████████| 305/305 [00:02<00:00, 125.50it/s]\n"
          ]
        },
        {
          "output_type": "stream",
          "name": "stdout",
          "text": [
            "(Epoch 4/20) Accuracy: 0.5392\n"
          ]
        },
        {
          "output_type": "stream",
          "name": "stderr",
          "text": [
            "Epoch 5/20: 100%|██████████| 305/305 [00:02<00:00, 103.01it/s]\n"
          ]
        },
        {
          "output_type": "stream",
          "name": "stdout",
          "text": [
            "(Epoch 5/20) Accuracy: 0.5208\n"
          ]
        },
        {
          "output_type": "stream",
          "name": "stderr",
          "text": [
            "Epoch 6/20: 100%|██████████| 305/305 [00:02<00:00, 129.74it/s]\n"
          ]
        },
        {
          "output_type": "stream",
          "name": "stdout",
          "text": [
            "(Epoch 6/20) Accuracy: 0.5149\n"
          ]
        },
        {
          "output_type": "stream",
          "name": "stderr",
          "text": [
            "Epoch 7/20: 100%|██████████| 305/305 [00:02<00:00, 126.74it/s]\n"
          ]
        },
        {
          "output_type": "stream",
          "name": "stdout",
          "text": [
            "(Epoch 7/20) Accuracy: 0.5092\n"
          ]
        },
        {
          "output_type": "stream",
          "name": "stderr",
          "text": [
            "Epoch 8/20: 100%|██████████| 305/305 [00:02<00:00, 116.43it/s]\n"
          ]
        },
        {
          "output_type": "stream",
          "name": "stdout",
          "text": [
            "(Epoch 8/20) Accuracy: 0.5128\n"
          ]
        },
        {
          "output_type": "stream",
          "name": "stderr",
          "text": [
            "Epoch 9/20: 100%|██████████| 305/305 [00:02<00:00, 114.64it/s]\n"
          ]
        },
        {
          "output_type": "stream",
          "name": "stdout",
          "text": [
            "(Epoch 9/20) Accuracy: 0.5124\n"
          ]
        },
        {
          "output_type": "stream",
          "name": "stderr",
          "text": [
            "Epoch 10/20: 100%|██████████| 305/305 [00:02<00:00, 116.03it/s]\n"
          ]
        },
        {
          "output_type": "stream",
          "name": "stdout",
          "text": [
            "(Epoch 10/20) Accuracy: 0.5138\n"
          ]
        },
        {
          "output_type": "stream",
          "name": "stderr",
          "text": [
            "Epoch 11/20: 100%|██████████| 305/305 [00:02<00:00, 127.80it/s]\n"
          ]
        },
        {
          "output_type": "stream",
          "name": "stdout",
          "text": [
            "(Epoch 11/20) Accuracy: 0.5138\n"
          ]
        },
        {
          "output_type": "stream",
          "name": "stderr",
          "text": [
            "Epoch 12/20: 100%|██████████| 305/305 [00:02<00:00, 127.80it/s]\n"
          ]
        },
        {
          "output_type": "stream",
          "name": "stdout",
          "text": [
            "(Epoch 12/20) Accuracy: 0.5127\n"
          ]
        },
        {
          "output_type": "stream",
          "name": "stderr",
          "text": [
            "Epoch 13/20: 100%|██████████| 305/305 [00:02<00:00, 126.05it/s]\n"
          ]
        },
        {
          "output_type": "stream",
          "name": "stdout",
          "text": [
            "(Epoch 13/20) Accuracy: 0.5109\n"
          ]
        },
        {
          "output_type": "stream",
          "name": "stderr",
          "text": [
            "Epoch 14/20: 100%|██████████| 305/305 [00:02<00:00, 106.02it/s]\n"
          ]
        },
        {
          "output_type": "stream",
          "name": "stdout",
          "text": [
            "(Epoch 14/20) Accuracy: 0.5141\n"
          ]
        },
        {
          "output_type": "stream",
          "name": "stderr",
          "text": [
            "Epoch 15/20: 100%|██████████| 305/305 [00:02<00:00, 115.45it/s]\n"
          ]
        },
        {
          "output_type": "stream",
          "name": "stdout",
          "text": [
            "(Epoch 15/20) Accuracy: 0.5125\n"
          ]
        },
        {
          "output_type": "stream",
          "name": "stderr",
          "text": [
            "Epoch 16/20: 100%|██████████| 305/305 [00:02<00:00, 128.55it/s]\n"
          ]
        },
        {
          "output_type": "stream",
          "name": "stdout",
          "text": [
            "(Epoch 16/20) Accuracy: 0.5141\n"
          ]
        },
        {
          "output_type": "stream",
          "name": "stderr",
          "text": [
            "Epoch 17/20: 100%|██████████| 305/305 [00:02<00:00, 128.48it/s]\n"
          ]
        },
        {
          "output_type": "stream",
          "name": "stdout",
          "text": [
            "(Epoch 17/20) Accuracy: 0.5128\n"
          ]
        },
        {
          "output_type": "stream",
          "name": "stderr",
          "text": [
            "Epoch 18/20: 100%|██████████| 305/305 [00:02<00:00, 114.75it/s]\n"
          ]
        },
        {
          "output_type": "stream",
          "name": "stdout",
          "text": [
            "(Epoch 18/20) Accuracy: 0.5125\n"
          ]
        },
        {
          "output_type": "stream",
          "name": "stderr",
          "text": [
            "Epoch 19/20: 100%|██████████| 305/305 [00:02<00:00, 116.62it/s]\n"
          ]
        },
        {
          "output_type": "stream",
          "name": "stdout",
          "text": [
            "(Epoch 19/20) Accuracy: 0.5123\n"
          ]
        },
        {
          "output_type": "stream",
          "name": "stderr",
          "text": [
            "Epoch 20/20: 100%|██████████| 305/305 [00:02<00:00, 128.62it/s]\n"
          ]
        },
        {
          "output_type": "stream",
          "name": "stdout",
          "text": [
            "(Epoch 20/20) Accuracy: 0.5133\n",
            "\n",
            "Trening z konfiguracją: {'hidden_sizes': [256, 64], 'learning_rate': 0.0005, 'optimizer': 'Adam', 'scheduler': 'CosineAnnealingLR', 'epochs': 30}\n"
          ]
        },
        {
          "output_type": "stream",
          "name": "stderr",
          "text": [
            "Epoch 1/30: 100%|██████████| 305/305 [00:02<00:00, 117.28it/s]\n"
          ]
        },
        {
          "output_type": "stream",
          "name": "stdout",
          "text": [
            "(Epoch 1/30) Accuracy: 0.5712\n"
          ]
        },
        {
          "output_type": "stream",
          "name": "stderr",
          "text": [
            "Epoch 2/30: 100%|██████████| 305/305 [00:02<00:00, 129.96it/s]\n"
          ]
        },
        {
          "output_type": "stream",
          "name": "stdout",
          "text": [
            "(Epoch 2/30) Accuracy: 0.5668\n"
          ]
        },
        {
          "output_type": "stream",
          "name": "stderr",
          "text": [
            "Epoch 3/30: 100%|██████████| 305/305 [00:02<00:00, 110.88it/s]\n"
          ]
        },
        {
          "output_type": "stream",
          "name": "stdout",
          "text": [
            "(Epoch 3/30) Accuracy: 0.5654\n"
          ]
        },
        {
          "output_type": "stream",
          "name": "stderr",
          "text": [
            "Epoch 4/30: 100%|██████████| 305/305 [00:02<00:00, 129.58it/s]\n"
          ]
        },
        {
          "output_type": "stream",
          "name": "stdout",
          "text": [
            "(Epoch 4/30) Accuracy: 0.5602\n"
          ]
        },
        {
          "output_type": "stream",
          "name": "stderr",
          "text": [
            "Epoch 5/30: 100%|██████████| 305/305 [00:02<00:00, 128.59it/s]\n"
          ]
        },
        {
          "output_type": "stream",
          "name": "stdout",
          "text": [
            "(Epoch 5/30) Accuracy: 0.5572\n"
          ]
        },
        {
          "output_type": "stream",
          "name": "stderr",
          "text": [
            "Epoch 6/30: 100%|██████████| 305/305 [00:02<00:00, 131.24it/s]\n"
          ]
        },
        {
          "output_type": "stream",
          "name": "stdout",
          "text": [
            "(Epoch 6/30) Accuracy: 0.5497\n"
          ]
        },
        {
          "output_type": "stream",
          "name": "stderr",
          "text": [
            "Epoch 7/30: 100%|██████████| 305/305 [00:02<00:00, 118.09it/s]\n"
          ]
        },
        {
          "output_type": "stream",
          "name": "stdout",
          "text": [
            "(Epoch 7/30) Accuracy: 0.5458\n"
          ]
        },
        {
          "output_type": "stream",
          "name": "stderr",
          "text": [
            "Epoch 8/30: 100%|██████████| 305/305 [00:02<00:00, 105.58it/s]\n"
          ]
        },
        {
          "output_type": "stream",
          "name": "stdout",
          "text": [
            "(Epoch 8/30) Accuracy: 0.5401\n"
          ]
        },
        {
          "output_type": "stream",
          "name": "stderr",
          "text": [
            "Epoch 9/30: 100%|██████████| 305/305 [00:02<00:00, 132.00it/s]\n"
          ]
        },
        {
          "output_type": "stream",
          "name": "stdout",
          "text": [
            "(Epoch 9/30) Accuracy: 0.5355\n"
          ]
        },
        {
          "output_type": "stream",
          "name": "stderr",
          "text": [
            "Epoch 10/30: 100%|██████████| 305/305 [00:02<00:00, 131.82it/s]\n"
          ]
        },
        {
          "output_type": "stream",
          "name": "stdout",
          "text": [
            "(Epoch 10/30) Accuracy: 0.5319\n"
          ]
        },
        {
          "output_type": "stream",
          "name": "stderr",
          "text": [
            "Epoch 11/30: 100%|██████████| 305/305 [00:02<00:00, 127.84it/s]\n"
          ]
        },
        {
          "output_type": "stream",
          "name": "stdout",
          "text": [
            "(Epoch 11/30) Accuracy: 0.5277\n"
          ]
        },
        {
          "output_type": "stream",
          "name": "stderr",
          "text": [
            "Epoch 12/30: 100%|██████████| 305/305 [00:02<00:00, 109.85it/s]\n"
          ]
        },
        {
          "output_type": "stream",
          "name": "stdout",
          "text": [
            "(Epoch 12/30) Accuracy: 0.5242\n"
          ]
        },
        {
          "output_type": "stream",
          "name": "stderr",
          "text": [
            "Epoch 13/30: 100%|██████████| 305/305 [00:02<00:00, 128.06it/s]\n"
          ]
        },
        {
          "output_type": "stream",
          "name": "stdout",
          "text": [
            "(Epoch 13/30) Accuracy: 0.5217\n"
          ]
        },
        {
          "output_type": "stream",
          "name": "stderr",
          "text": [
            "Epoch 14/30: 100%|██████████| 305/305 [00:02<00:00, 133.19it/s]\n"
          ]
        },
        {
          "output_type": "stream",
          "name": "stdout",
          "text": [
            "(Epoch 14/30) Accuracy: 0.5167\n"
          ]
        },
        {
          "output_type": "stream",
          "name": "stderr",
          "text": [
            "Epoch 15/30: 100%|██████████| 305/305 [00:02<00:00, 129.82it/s]\n"
          ]
        },
        {
          "output_type": "stream",
          "name": "stdout",
          "text": [
            "(Epoch 15/30) Accuracy: 0.5147\n"
          ]
        },
        {
          "output_type": "stream",
          "name": "stderr",
          "text": [
            "Epoch 16/30: 100%|██████████| 305/305 [00:02<00:00, 117.19it/s]\n"
          ]
        },
        {
          "output_type": "stream",
          "name": "stdout",
          "text": [
            "(Epoch 16/30) Accuracy: 0.5107\n"
          ]
        },
        {
          "output_type": "stream",
          "name": "stderr",
          "text": [
            "Epoch 17/30: 100%|██████████| 305/305 [00:02<00:00, 118.62it/s]\n"
          ]
        },
        {
          "output_type": "stream",
          "name": "stdout",
          "text": [
            "(Epoch 17/30) Accuracy: 0.5095\n"
          ]
        },
        {
          "output_type": "stream",
          "name": "stderr",
          "text": [
            "Epoch 18/30: 100%|██████████| 305/305 [00:02<00:00, 130.69it/s]\n"
          ]
        },
        {
          "output_type": "stream",
          "name": "stdout",
          "text": [
            "(Epoch 18/30) Accuracy: 0.5045\n"
          ]
        },
        {
          "output_type": "stream",
          "name": "stderr",
          "text": [
            "Epoch 19/30: 100%|██████████| 305/305 [00:02<00:00, 130.41it/s]\n"
          ]
        },
        {
          "output_type": "stream",
          "name": "stdout",
          "text": [
            "(Epoch 19/30) Accuracy: 0.5055\n"
          ]
        },
        {
          "output_type": "stream",
          "name": "stderr",
          "text": [
            "Epoch 20/30: 100%|██████████| 305/305 [00:02<00:00, 129.77it/s]\n"
          ]
        },
        {
          "output_type": "stream",
          "name": "stdout",
          "text": [
            "(Epoch 20/30) Accuracy: 0.5040\n"
          ]
        },
        {
          "output_type": "stream",
          "name": "stderr",
          "text": [
            "Epoch 21/30: 100%|██████████| 305/305 [00:03<00:00, 99.01it/s] \n"
          ]
        },
        {
          "output_type": "stream",
          "name": "stdout",
          "text": [
            "(Epoch 21/30) Accuracy: 0.5018\n"
          ]
        },
        {
          "output_type": "stream",
          "name": "stderr",
          "text": [
            "Epoch 22/30: 100%|██████████| 305/305 [00:02<00:00, 131.91it/s]\n"
          ]
        },
        {
          "output_type": "stream",
          "name": "stdout",
          "text": [
            "(Epoch 22/30) Accuracy: 0.5004\n"
          ]
        },
        {
          "output_type": "stream",
          "name": "stderr",
          "text": [
            "Epoch 23/30: 100%|██████████| 305/305 [00:02<00:00, 129.12it/s]\n"
          ]
        },
        {
          "output_type": "stream",
          "name": "stdout",
          "text": [
            "(Epoch 23/30) Accuracy: 0.4988\n"
          ]
        },
        {
          "output_type": "stream",
          "name": "stderr",
          "text": [
            "Epoch 24/30: 100%|██████████| 305/305 [00:02<00:00, 131.01it/s]\n"
          ]
        },
        {
          "output_type": "stream",
          "name": "stdout",
          "text": [
            "(Epoch 24/30) Accuracy: 0.4998\n"
          ]
        },
        {
          "output_type": "stream",
          "name": "stderr",
          "text": [
            "Epoch 25/30: 100%|██████████| 305/305 [00:02<00:00, 119.76it/s]\n"
          ]
        },
        {
          "output_type": "stream",
          "name": "stdout",
          "text": [
            "(Epoch 25/30) Accuracy: 0.4995\n"
          ]
        },
        {
          "output_type": "stream",
          "name": "stderr",
          "text": [
            "Epoch 26/30: 100%|██████████| 305/305 [00:02<00:00, 117.33it/s]\n"
          ]
        },
        {
          "output_type": "stream",
          "name": "stdout",
          "text": [
            "(Epoch 26/30) Accuracy: 0.4995\n"
          ]
        },
        {
          "output_type": "stream",
          "name": "stderr",
          "text": [
            "Epoch 27/30: 100%|██████████| 305/305 [00:02<00:00, 132.94it/s]\n"
          ]
        },
        {
          "output_type": "stream",
          "name": "stdout",
          "text": [
            "(Epoch 27/30) Accuracy: 0.4992\n"
          ]
        },
        {
          "output_type": "stream",
          "name": "stderr",
          "text": [
            "Epoch 28/30: 100%|██████████| 305/305 [00:02<00:00, 130.16it/s]\n"
          ]
        },
        {
          "output_type": "stream",
          "name": "stdout",
          "text": [
            "(Epoch 28/30) Accuracy: 0.4992\n"
          ]
        },
        {
          "output_type": "stream",
          "name": "stderr",
          "text": [
            "Epoch 29/30: 100%|██████████| 305/305 [00:02<00:00, 128.53it/s]\n"
          ]
        },
        {
          "output_type": "stream",
          "name": "stdout",
          "text": [
            "(Epoch 29/30) Accuracy: 0.4995\n"
          ]
        },
        {
          "output_type": "stream",
          "name": "stderr",
          "text": [
            "Epoch 30/30: 100%|██████████| 305/305 [00:02<00:00, 105.91it/s]\n"
          ]
        },
        {
          "output_type": "stream",
          "name": "stdout",
          "text": [
            "(Epoch 30/30) Accuracy: 0.4993\n",
            "Konfiguracja: {'hidden_sizes': [64, 16], 'learning_rate': 0.01, 'optimizer': 'Adam', 'scheduler': None, 'epochs': 10} | Dokładność: 0.5065\n",
            "Konfiguracja: {'hidden_sizes': [128, 32], 'learning_rate': 0.001, 'optimizer': 'SGD', 'scheduler': 'StepLR', 'epochs': 20} | Dokładność: 0.2063\n",
            "Konfiguracja: {'hidden_sizes': [256, 64, 16], 'learning_rate': 0.005, 'optimizer': 'Adam', 'scheduler': 'CosineAnnealingLR', 'epochs': 15} | Dokładność: 0.5297\n",
            "Konfiguracja: {'hidden_sizes': [512, 256, 64], 'learning_rate': 0.001, 'optimizer': 'Adam', 'scheduler': 'CosineAnnealingLR', 'epochs': 20} | Dokładność: 0.5133\n",
            "Konfiguracja: {'hidden_sizes': [256, 64], 'learning_rate': 0.0005, 'optimizer': 'Adam', 'scheduler': 'CosineAnnealingLR', 'epochs': 30} | Dokładność: 0.4993\n"
          ]
        }
      ]
    },
    {
      "cell_type": "code",
      "source": [
        "def evaluate_on_test(model, test_loader):\n",
        "    model.eval()\n",
        "    metric_acc = torchmetrics.classification.Accuracy(task=\"multiclass\", num_classes=5).to(device)\n",
        "\n",
        "    with torch.no_grad():\n",
        "        for X_batch, target in test_loader:\n",
        "            X_batch, target = X_batch.to(device), target.to(device)\n",
        "            logits = model(X_batch)\n",
        "            preds = torch.argmax(logits, dim=1)\n",
        "            metric_acc.update(preds, target)\n",
        "\n",
        "    test_acc = metric_acc.compute().item()\n",
        "    print(f\"Dokładność na zbiorze testowym: {test_acc:.4f}\")\n",
        "    return test_acc\n",
        "\n",
        "test_accuracy = evaluate_on_test(best_model, test_loader)\n"
      ],
      "metadata": {
        "id": "AhcAGUGEcFw9",
        "colab": {
          "base_uri": "https://localhost:8080/"
        },
        "outputId": "0e087954-1e99-4ad0-f028-4f1864c9ee0e"
      },
      "execution_count": 35,
      "outputs": [
        {
          "output_type": "stream",
          "name": "stdout",
          "text": [
            "Dokładność na zbiorze testowym: 0.5253\n"
          ]
        }
      ]
    }
  ],
  "metadata": {
    "accelerator": "GPU",
    "colab": {
      "gpuType": "T4",
      "provenance": []
    },
    "kernelspec": {
      "display_name": "Python 3",
      "name": "python3"
    },
    "language_info": {
      "name": "python"
    }
  },
  "nbformat": 4,
  "nbformat_minor": 0
}