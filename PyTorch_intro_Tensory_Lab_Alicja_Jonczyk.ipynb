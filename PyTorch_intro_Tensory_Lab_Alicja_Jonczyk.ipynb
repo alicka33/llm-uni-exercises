{
  "cells": [
    {
      "cell_type": "markdown",
      "metadata": {
        "id": "ZY88NuVprDxy"
      },
      "source": [
        "#PyTorch Intro - Tensory - Laboratorium\n",
        "\n",
        "**Tensor** w bibliotece PyTorch jest specjalizowaną strukturą danych podobną do wielowymiarowej tablicy `ndarray` w bibliotece numpy. Na tensorach można wykonywać typowe operacje algebry liniowej oraz operacje specyficzne dla głębokiego uczenia jak na przykład automatyczne różniczkowanie (autograd).\n",
        "Tensory wykorzystujemy do przechowywania przetwarzanych danych oraz parametrów (wag) modeli. Biblioteka PyTorch pozwala na efektywne przetwarzanie tensorów na CPU lub GPU."
      ]
    },
    {
      "cell_type": "markdown",
      "metadata": {
        "id": "wQ6auP2WCnLW"
      },
      "source": [
        "##Przygotowanie środowiska\n",
        "Upewnij się, że notatnik jest uruchomiony na maszynie z GPU. Jeśli GPU nie jest dostępne zmień typ maszyny (Runtime | Change runtime type) i wybierz T4 GPU."
      ]
    },
    {
      "cell_type": "code",
      "execution_count": 1,
      "metadata": {
        "id": "FfwBYOmmnw0b",
        "colab": {
          "base_uri": "https://localhost:8080/"
        },
        "outputId": "6844e57c-1481-48ee-d37d-58a2c7fe85c7"
      },
      "outputs": [
        {
          "output_type": "stream",
          "name": "stdout",
          "text": [
            "Fri Mar 21 14:37:09 2025       \n",
            "+-----------------------------------------------------------------------------------------+\n",
            "| NVIDIA-SMI 550.54.15              Driver Version: 550.54.15      CUDA Version: 12.4     |\n",
            "|-----------------------------------------+------------------------+----------------------+\n",
            "| GPU  Name                 Persistence-M | Bus-Id          Disp.A | Volatile Uncorr. ECC |\n",
            "| Fan  Temp   Perf          Pwr:Usage/Cap |           Memory-Usage | GPU-Util  Compute M. |\n",
            "|                                         |                        |               MIG M. |\n",
            "|=========================================+========================+======================|\n",
            "|   0  Tesla T4                       Off |   00000000:00:04.0 Off |                    0 |\n",
            "| N/A   46C    P8             12W /   70W |       0MiB /  15360MiB |      0%      Default |\n",
            "|                                         |                        |                  N/A |\n",
            "+-----------------------------------------+------------------------+----------------------+\n",
            "                                                                                         \n",
            "+-----------------------------------------------------------------------------------------+\n",
            "| Processes:                                                                              |\n",
            "|  GPU   GI   CI        PID   Type   Process name                              GPU Memory |\n",
            "|        ID   ID                                                               Usage      |\n",
            "|=========================================================================================|\n",
            "|  No running processes found                                                             |\n",
            "+-----------------------------------------------------------------------------------------+\n"
          ]
        }
      ],
      "source": [
        "!nvidia-smi"
      ]
    },
    {
      "cell_type": "markdown",
      "metadata": {
        "id": "n1G8i4wTrfq6"
      },
      "source": [
        "Biblioteka PyTorch (`torch`) jest domyślnie zainstalowana w środowisku COLAB."
      ]
    },
    {
      "cell_type": "code",
      "execution_count": 2,
      "metadata": {
        "id": "FDGaiuGLrapP",
        "colab": {
          "base_uri": "https://localhost:8080/"
        },
        "outputId": "be7b01d8-81b0-405c-c6a1-8a07b5525bd0"
      },
      "outputs": [
        {
          "output_type": "stream",
          "name": "stdout",
          "text": [
            "Wersja biblioteki PyTorch: 2.6.0+cu124\n"
          ]
        }
      ],
      "source": [
        "import torch\n",
        "import numpy as np\n",
        "\n",
        "print(f\"Wersja biblioteki PyTorch: {torch.__version__}\")"
      ]
    },
    {
      "cell_type": "markdown",
      "metadata": {
        "id": "EJ6c3h4nryQJ"
      },
      "source": [
        "Sprawdzenie dostępnego urządzenia GPU."
      ]
    },
    {
      "cell_type": "code",
      "execution_count": 3,
      "metadata": {
        "id": "VGyMG3_2rxIC",
        "colab": {
          "base_uri": "https://localhost:8080/"
        },
        "outputId": "dcf53dbe-255e-4cb1-bb83-3ff0e7e1f89a"
      },
      "outputs": [
        {
          "output_type": "stream",
          "name": "stdout",
          "text": [
            "Dostępność GPU: True\n",
            "Typ GPU: Tesla T4\n"
          ]
        }
      ],
      "source": [
        "print(f\"Dostępność GPU: {torch.cuda.is_available()}\")\n",
        "print(f\"Typ GPU: {torch.cuda.get_device_name(0)}\")"
      ]
    },
    {
      "cell_type": "markdown",
      "source": [
        "##Zadania do wykonania"
      ],
      "metadata": {
        "id": "a0eTA-dNdwEL"
      }
    },
    {
      "cell_type": "markdown",
      "source": [
        "###Zadanie 1: Tworzenie tensorów\n",
        "Wygeneruj tensor o pokazanej poniżej zawartości nie używając pętli. Wskazówka: Wykorzystaj funkcję `torch.full` i mechanizm indeksowania tensorów.\n",
        "\n",
        "```\n",
        " 1 2 1 1 1 1 2 1 1 1 1 2 1\n",
        " 1 2 1 1 1 1 2 1 1 1 1 2 1\n",
        " 2 2 2 2 2 2 2 2 2 2 2 2 2\n",
        " 1 2 1 1 1 1 2 1 1 1 1 2 1\n",
        " 1 2 1 3 3 1 2 1 3 3 1 2 1\n",
        " 1 2 1 3 3 1 2 1 3 3 1 2 1\n",
        " 1 2 1 1 1 1 2 1 1 1 1 2 1\n",
        " 2 2 2 2 2 2 2 2 2 2 2 2 2\n",
        " 1 2 1 1 1 1 2 1 1 1 1 2 1\n",
        " 1 2 1 3 3 1 2 1 3 3 1 2 1\n",
        " 1 2 1 3 3 1 2 1 3 3 1 2 1\n",
        " 1 2 1 1 1 1 2 1 1 1 1 2 1\n",
        " 2 2 2 2 2 2 2 2 2 2 2 2 2\n",
        " 1 2 1 1 1 1 2 1 1 1 1 2 1\n",
        "```\n",
        "\n"
      ],
      "metadata": {
        "id": "xRZ4mKnwqa0O"
      }
    },
    {
      "cell_type": "code",
      "source": [
        "tensor = torch.full((14, 13), 1)\n",
        "\n",
        "tensor[:, 1] = 2\n",
        "tensor[:, 6] = 2\n",
        "tensor[:, 11] = 2\n",
        "tensor[[2, 7, 12], :] = 2\n",
        "\n",
        "rows = torch.tensor([4, 5, 9, 10])\n",
        "cols = torch.tensor([3, 4, 8, 9])\n",
        "tensor[rows[:, None], cols] = 3\n",
        "\n",
        "\n",
        "print(tensor)\n"
      ],
      "metadata": {
        "id": "Pk_NjEP9JiWm",
        "colab": {
          "base_uri": "https://localhost:8080/"
        },
        "outputId": "1a7c3e77-a7dd-412b-954d-9fd0a0d3cdc5"
      },
      "execution_count": 7,
      "outputs": [
        {
          "output_type": "stream",
          "name": "stdout",
          "text": [
            "tensor([[1, 2, 1, 1, 1, 1, 2, 1, 1, 1, 1, 2, 1],\n",
            "        [1, 2, 1, 1, 1, 1, 2, 1, 1, 1, 1, 2, 1],\n",
            "        [2, 2, 2, 2, 2, 2, 2, 2, 2, 2, 2, 2, 2],\n",
            "        [1, 2, 1, 1, 1, 1, 2, 1, 1, 1, 1, 2, 1],\n",
            "        [1, 2, 1, 3, 3, 1, 2, 1, 3, 3, 1, 2, 1],\n",
            "        [1, 2, 1, 3, 3, 1, 2, 1, 3, 3, 1, 2, 1],\n",
            "        [1, 2, 1, 1, 1, 1, 2, 1, 1, 1, 1, 2, 1],\n",
            "        [2, 2, 2, 2, 2, 2, 2, 2, 2, 2, 2, 2, 2],\n",
            "        [1, 2, 1, 1, 1, 1, 2, 1, 1, 1, 1, 2, 1],\n",
            "        [1, 2, 1, 3, 3, 1, 2, 1, 3, 3, 1, 2, 1],\n",
            "        [1, 2, 1, 3, 3, 1, 2, 1, 3, 3, 1, 2, 1],\n",
            "        [1, 2, 1, 1, 1, 1, 2, 1, 1, 1, 1, 2, 1],\n",
            "        [2, 2, 2, 2, 2, 2, 2, 2, 2, 2, 2, 2, 2],\n",
            "        [1, 2, 1, 1, 1, 1, 2, 1, 1, 1, 1, 2, 1]])\n"
          ]
        }
      ]
    },
    {
      "cell_type": "markdown",
      "source": [
        "###Zadanie 2: Wartości własne macierzy\n",
        "Utwórz dwuwymiarowy tensor $M$ o rozmiarach $20 \\times 20$ zainicjalizowany losowymi wartościami o standardowym rozkładzie normalnym.\n",
        "Następnie wyznacz wartości własne macierzy $\n",
        "X = M D M^{-1} \\, ,\n",
        "$\n",
        "gdzie\n",
        "$$\n",
        "\\begin{align}\n",
        "D =\n",
        "\\begin{bmatrix}\n",
        "1 & 0 & 0 & \\ldots & 0 & 0 \\\\\n",
        "0 & 2 & 0 & \\ldots  & 0 & 0 \\\\\n",
        "\\vdots &  & \\ddots &  &  & \\vdots \\\\\n",
        "\\vdots &  &  &  & 19 & 0 \\\\\n",
        "0 & \\ldots & \\ldots & \\ldots & 0 & 20\n",
        "\\end{bmatrix}\n",
        "\\end{align} \\, .\n",
        "$$\n",
        "Nie używaj pętli. Macierz $D$ wygeneruj korzystając z funkcji `torch.diag`. Do wyznaczenia wektorów własnych wykorzystaj funkcję `torch.linalg.eig`."
      ],
      "metadata": {
        "id": "HLvSfZmesKOH"
      }
    },
    {
      "cell_type": "code",
      "source": [
        "M = torch.randn(20, 20, dtype=torch.float32)\n",
        "\n",
        "D = torch.diag(torch.arange(1, 21, dtype=torch.float32))\n",
        "\n",
        "M_inv = torch.linalg.inv(M)\n",
        "X = M @ D @ M_inv\n",
        "\n",
        "values, vectors = torch.linalg.eig(X)\n",
        "\n",
        "print(\"Wartości własne macierzy X:\", values.real)"
      ],
      "metadata": {
        "id": "xFiduJkCJny_",
        "colab": {
          "base_uri": "https://localhost:8080/"
        },
        "outputId": "8fb25bf3-6616-4f8c-fc1c-0bfb24706b2c"
      },
      "execution_count": 8,
      "outputs": [
        {
          "output_type": "stream",
          "name": "stdout",
          "text": [
            "Wartości własne macierzy X: tensor([20.0000,  1.0000,  2.0000, 19.0000,  3.0000,  4.0000, 18.0000,  5.0000,\n",
            "        17.0000,  6.0000, 16.0000, 15.0001,  7.0000, 14.0000,  8.0000, 13.0000,\n",
            "        12.0001, 10.9999,  9.0000, 10.0000])\n"
          ]
        }
      ]
    },
    {
      "cell_type": "markdown",
      "source": [
        "###Zadanie 3: Porównanie czasów wykonywania operacji na CPU i GPU\n",
        "Napisz kod który wyświetli wykres liniowy przedstawiający zależność czasu mnożenia dwóch macierzy kwadratowych $n \\times n$ od ich rozmiaru $n$ dla działań wykonanych na CPU i na GPU.\n",
        "Mierząc czas wykonania operacji na GPU pamiętaj aby przed rozpocząciem i przed zakończeniem pomiaru czasu wywołać polecenie `torch.cuda.synchronize()` które czeka na zakończenie obliczeń na GPU.\n",
        "\n",
        "\n",
        "```\n",
        "torch.cuda.synchronize()\n",
        "start_time = time.time()\n",
        "...\n",
        "...\n",
        "torch.cuda.synchronize()\n",
        "end_time = time.time()\n",
        "```\n",
        "\n"
      ],
      "metadata": {
        "id": "1ZiCYz7upKol"
      }
    },
    {
      "cell_type": "code",
      "source": [
        "import time\n",
        "import matplotlib.pyplot as plt"
      ],
      "metadata": {
        "id": "YZMTg9_4C1cB"
      },
      "execution_count": 9,
      "outputs": []
    },
    {
      "cell_type": "code",
      "source": [
        "def measure_time(device, size):\n",
        "    a = torch.rand(size, size, device=device)\n",
        "    b = torch.rand(size, size, device=device)\n",
        "\n",
        "    if device.type == \"cuda\":\n",
        "        torch.cuda.synchronize()\n",
        "    start_time = time.time()\n",
        "\n",
        "    c = torch.matmul(a, b)\n",
        "\n",
        "    if device.type == \"cuda\":\n",
        "        torch.cuda.synchronize()\n",
        "    end_time = time.time()\n",
        "\n",
        "    return end_time - start_time"
      ],
      "metadata": {
        "id": "dI67Uhp1DVY-"
      },
      "execution_count": 10,
      "outputs": []
    },
    {
      "cell_type": "code",
      "source": [
        "device_cpu = torch.device(\"cpu\")\n",
        "device_gpu = torch.device(\"cuda\") if torch.cuda.is_available() else None\n",
        "\n",
        "sizes = range(1, 1000)\n",
        "cpu_times = []\n",
        "gpu_times = []\n",
        "\n",
        "for size in sizes:\n",
        "    cpu_time = measure_time(device_cpu, size)\n",
        "    cpu_times.append(cpu_time)\n",
        "\n",
        "    if device_gpu:\n",
        "        gpu_time = measure_time(device_gpu, size)\n",
        "        gpu_times.append(gpu_time)\n",
        "    else:\n",
        "        gpu_times.append(None)\n",
        "\n",
        "\n",
        "plt.figure(figsize=(10, 6))\n",
        "plt.plot(sizes, cpu_times, label='CPU')\n",
        "if device_gpu:\n",
        "    plt.plot(sizes, gpu_times, label='GPU')\n",
        "\n",
        "plt.xlabel('Rozmiar macierzy')\n",
        "plt.ylabel('Czas wykonania (s)')\n",
        "plt.title('Czas wykonania mnożenia macierzy dla CPU i GPU')\n",
        "plt.legend()\n",
        "plt.grid()\n",
        "plt.show()\n"
      ],
      "metadata": {
        "id": "CladxlEPwW6_",
        "colab": {
          "base_uri": "https://localhost:8080/",
          "height": 564
        },
        "outputId": "09a01eca-72ec-4ccb-9d23-efec05615413"
      },
      "execution_count": 12,
      "outputs": [
        {
          "output_type": "display_data",
          "data": {
            "text/plain": [
              "<Figure size 1000x600 with 1 Axes>"
            ],
            "image/png": "[encoded data removed]"
          },
          "metadata": {}
        }
      ]
    },
    {
      "cell_type": "markdown",
      "source": [
        "Na wykresie możemy zauważyć, że czas mnożenia dużych macierzy na GPU jest znacznie krótszy."
      ],
      "metadata": {
        "id": "tgBapLmsLHJB"
      }
    },
    {
      "cell_type": "markdown",
      "source": [
        "###Zadanie 4 (opcjonalne): Konwencja sumacyjna Einsteina\n",
        "Zapisz podane operacje korzystając z konwencji sumacyjnej Einsteina."
      ],
      "metadata": {
        "id": "oFKICGrJd1XM"
      }
    },
    {
      "cell_type": "markdown",
      "source": [
        "Wyznacz ślad (suma elementów na przekątnej) macierzy `M`."
      ],
      "metadata": {
        "id": "_D4371MId7-H"
      }
    },
    {
      "cell_type": "code",
      "source": [
        "M = torch.tensor([[1, 2, 3],\n",
        "                  [4, 5, 6],\n",
        "                  [7, 8, 9]])"
      ],
      "metadata": {
        "id": "Eewqv3gtd8FX"
      },
      "execution_count": 13,
      "outputs": []
    },
    {
      "cell_type": "code",
      "source": [
        "trace = torch.einsum(\"ii->\", M)\n",
        "\n",
        "print(\"Ślad macierzy M:\", trace)"
      ],
      "metadata": {
        "id": "AJ7QIfKWKNts",
        "colab": {
          "base_uri": "https://localhost:8080/"
        },
        "outputId": "67a28641-fdc0-4cf2-a17a-9adb3638d0b4"
      },
      "execution_count": 14,
      "outputs": [
        {
          "output_type": "stream",
          "name": "stdout",
          "text": [
            "Ślad macierzy M: tensor(15)\n"
          ]
        }
      ]
    },
    {
      "cell_type": "code",
      "source": [
        "#Oczekiwany wynik: 15"
      ],
      "metadata": {
        "id": "CEfDengsfomr"
      },
      "execution_count": 15,
      "outputs": []
    },
    {
      "cell_type": "markdown",
      "source": [
        "Wyznacz wartość formy biliniowej\n",
        "$z = \\mathbf{x}^T \\mathbf{A} \\mathbf{y}$"
      ],
      "metadata": {
        "id": "9fyhGSPne3Ae"
      }
    },
    {
      "cell_type": "code",
      "source": [
        "x = torch.tensor([1, 2])\n",
        "A = torch.tensor([[3, 4], [5, 6]])\n",
        "y = torch.tensor([7, 8])"
      ],
      "metadata": {
        "id": "CX02eLR7e3IX"
      },
      "execution_count": 16,
      "outputs": []
    },
    {
      "cell_type": "code",
      "source": [
        "z = torch.einsum(\"i,ij,j->\", x, A, y)\n",
        "\n",
        "print(\"Wartość formy biliniowej z:\", z)"
      ],
      "metadata": {
        "id": "nqqlP0gyKORl",
        "colab": {
          "base_uri": "https://localhost:8080/"
        },
        "outputId": "85a1333d-4915-456e-e8c9-5527465c8826"
      },
      "execution_count": 17,
      "outputs": [
        {
          "output_type": "stream",
          "name": "stdout",
          "text": [
            "Wartość formy biliniowej z: tensor(219)\n"
          ]
        }
      ]
    },
    {
      "cell_type": "code",
      "source": [
        "#Oczekiwany wynik 219"
      ],
      "metadata": {
        "id": "JNN1hde6fssT"
      },
      "execution_count": 18,
      "outputs": []
    },
    {
      "cell_type": "markdown",
      "source": [
        "Wyznacz ważoną sumę wektorów wierszowych macierzy `V` z wagami w wektorze `w`.\n",
        "$$\\mathbf{z}_j = \\sum_i \\mathbf{w}_i \\mathbf{V}_{ij}$$\n",
        "\n",
        "\n"
      ],
      "metadata": {
        "id": "U7Ewnpqqg1fU"
      }
    },
    {
      "cell_type": "code",
      "source": [
        "w = torch.tensor([0.2, 0.3, 0.5])\n",
        "V = torch.tensor([[1, 2], [3, 4], [5, 6]], dtype=torch.float32)  # Shape: [3, 2]"
      ],
      "metadata": {
        "id": "QJmoyrWRg1nX"
      },
      "execution_count": 19,
      "outputs": []
    },
    {
      "cell_type": "code",
      "source": [
        "z = torch.einsum(\"i,ij->j\", w, V) #-> j wynik będzie wektorem o indeksie j (suma po i)\n",
        "\n",
        "print(\"Ważona suma wektorów wierszowych:\", z)"
      ],
      "metadata": {
        "id": "s2nlvDLxKO34",
        "colab": {
          "base_uri": "https://localhost:8080/"
        },
        "outputId": "b1c5be5d-fc49-4002-f358-e7a50d3d6e3c"
      },
      "execution_count": 20,
      "outputs": [
        {
          "output_type": "stream",
          "name": "stdout",
          "text": [
            "Ważona suma wektorów wierszowych: tensor([3.6000, 4.6000])\n"
          ]
        }
      ]
    },
    {
      "cell_type": "code",
      "source": [
        "#Oczekiwany wynik [3.6000, 4.6000]"
      ],
      "metadata": {
        "id": "WiGY50BAhng2"
      },
      "execution_count": null,
      "outputs": []
    },
    {
      "cell_type": "markdown",
      "source": [
        "Dla trójwymiarowej macierzy `A` wyznacz sumę elementów po drugiej i trzeciej współrzędnej:\n",
        "$$\\mathbf{z}_i = \\sum_{j,k} \\mathbf{A}_{ijk}$$"
      ],
      "metadata": {
        "id": "W8TwJXwRj9Pp"
      }
    },
    {
      "cell_type": "code",
      "source": [
        "A = torch.tensor(\n",
        "    [[[1, 2], [3, 4], [5, 6]],\n",
        "     [[2, 5], [1, 7], [1, 3]]]\n",
        "    )\n",
        "print(A.shape)"
      ],
      "metadata": {
        "id": "meuvkus-j9g3",
        "colab": {
          "base_uri": "https://localhost:8080/"
        },
        "outputId": "0b9389f0-4184-45c3-b8fc-448e5307ae83"
      },
      "execution_count": 21,
      "outputs": [
        {
          "output_type": "stream",
          "name": "stdout",
          "text": [
            "torch.Size([2, 3, 2])\n"
          ]
        }
      ]
    },
    {
      "cell_type": "code",
      "source": [
        "z = torch.einsum(\"ijk->i\", A)\n",
        "\n",
        "print(\"Suma po drugiej i trzeciej współrzędnej:\", z)"
      ],
      "metadata": {
        "id": "-M1ZxOveKPkP",
        "colab": {
          "base_uri": "https://localhost:8080/"
        },
        "outputId": "5bc1a366-6e0a-499a-88d3-fbeacc922751"
      },
      "execution_count": 22,
      "outputs": [
        {
          "output_type": "stream",
          "name": "stdout",
          "text": [
            "Suma po drugiej i trzeciej współrzędnej: tensor([21, 19])\n"
          ]
        }
      ]
    },
    {
      "cell_type": "code",
      "source": [
        "#Oczekiwany wynik: [21, 19]"
      ],
      "metadata": {
        "id": "B8iumeAUlGIH"
      },
      "execution_count": null,
      "outputs": []
    }
  ],
  "metadata": {
    "accelerator": "GPU",
    "colab": {
      "gpuType": "T4",
      "toc_visible": true,
      "provenance": []
    },
    "kernelspec": {
      "display_name": "Python 3",
      "name": "python3"
    },
    "language_info": {
      "name": "python"
    }
  },
  "nbformat": 4,
  "nbformat_minor": 0
}